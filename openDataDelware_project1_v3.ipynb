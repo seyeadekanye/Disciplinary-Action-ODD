{
 "cells": [
  {
   "cell_type": "code",
   "execution_count": 1,
   "metadata": {
    "collapsed": true
   },
   "outputs": [],
   "source": [
    "# Imports and all that good stuff\n",
    "\n",
    "import pandas as pd\n",
    "import numpy as np\n",
    "import matplotlib as plt\n",
    "import plotly.plotly as py\n",
    "from plotly.graph_objs import *\n",
    "from geopy.geocoders import Nominatim\n",
    "\n",
    "%matplotlib inline\n",
    "from matplotlib import style\n",
    "style.use('seaborn-white')"
   ]
  },
  {
   "cell_type": "code",
   "execution_count": 2,
   "metadata": {
    "collapsed": true
   },
   "outputs": [],
   "source": [
    "# Function to handle strange zipcodes\n",
    "\n",
    "def zipcode(num):\n",
    "    string_num = str(num)\n",
    "    num = int(float(string_num[0:5]))\n",
    "    return num"
   ]
  },
  {
   "cell_type": "code",
   "execution_count": 3,
   "metadata": {
    "collapsed": true
   },
   "outputs": [],
   "source": [
    "# Function to grab geocoded data of schools\n",
    "\n",
    "def geo(col):\n",
    "    df_ = []\n",
    "    for val in col:\n",
    "        try:\n",
    "            df_.append((float(val['latitude']),float(val['longitude'])))\n",
    "        except KeyError:\n",
    "            df_.append(np.nan)\n",
    "            pass\n",
    "    return df_"
   ]
  },
  {
   "cell_type": "code",
   "execution_count": 4,
   "metadata": {
    "collapsed": true
   },
   "outputs": [],
   "source": [
    "# Function to split tuple (Latitude, Logitude) into separate columns\n",
    "\n",
    "def splitLatLon(series):\n",
    "    Lat = []\n",
    "    Lon = []\n",
    "    df_ = pd.DataFrame()\n",
    "    for val in series:\n",
    "        Lat.append(val[0])\n",
    "        Lon.append(val[1])\n",
    "    df_['Latitude'] = Lat\n",
    "    df_['Longitude'] = Lon\n",
    "    return df_"
   ]
  },
  {
   "cell_type": "code",
   "execution_count": 5,
   "metadata": {
    "collapsed": true
   },
   "outputs": [],
   "source": [
    "# Function to handle strange format of toxic geolocation data \n",
    "\n",
    "def toxicLatLon(data):\n",
    "    df_ = []\n",
    "    for val in data:\n",
    "        val = str(val)\n",
    "        if val == 'nan':\n",
    "            pass\n",
    "        else:\n",
    "            df_.append(eval(val[6:].replace(' ',',')))\n",
    "    return df_"
   ]
  },
  {
   "cell_type": "code",
   "execution_count": 6,
   "metadata": {
    "collapsed": true
   },
   "outputs": [],
   "source": [
    "# Function to switch toxic data Latiitude and Longitude Columns\n",
    "# It comes in switched\n",
    "\n",
    "def switchLatLon(series):\n",
    "    df = splitLatLon(series)\n",
    "    Lat = df['Longitude']\n",
    "    Lon = df['Latitude']\n",
    "    df = pd.DataFrame({'Latitude': Lat, 'Longitude': Lon})\n",
    "    return df"
   ]
  },
  {
   "cell_type": "code",
   "execution_count": 7,
   "metadata": {
    "collapsed": true
   },
   "outputs": [],
   "source": [
    "toxic_data_url = \"https://data.delaware.gov/resource/u2vy-dniy.csv\"\n",
    "columns = ['geocoded_facility_location','geocoded_facility_location_address','geocoded_facility_location_city','geocoded_facility_location_state','geocoded_facility_location_zip']\n",
    "toxic_data = pd.read_csv(toxic_data_url, usecols=columns)"
   ]
  },
  {
   "cell_type": "code",
   "execution_count": 8,
   "metadata": {
    "collapsed": true
   },
   "outputs": [],
   "source": [
    "school_data_url = \"https://data.delaware.gov/resource/tdwa-q9bt.json\"\n",
    "all_columns = pd.read_json(school_data_url).columns.values.tolist() # Get all column names as a list\n",
    "wanted_columns = ['schoolname', 'schooltype','geocoded_location','street1','street2','city','state','zip'] \n",
    "school_data = pd.read_json(school_data_url)\n",
    "[all_columns.remove(item) for item in wanted_columns] # remove wanted columns from all column list\n",
    "                                                      # all column list can now be dropped from school_data using pd.drop()\n",
    "school_data.drop(all_columns, axis=1,inplace=True)   "
   ]
  },
  {
   "cell_type": "code",
   "execution_count": 9,
   "metadata": {
    "collapsed": true
   },
   "outputs": [],
   "source": [
    "toxic_data['geocoded_facility_location_zip'].fillna(value=0,inplace=True) # I was getting errors with the zipcode functio\n",
    "                                                                          # error raise about nan values, even though\n",
    "                                                                          # I could not find those values. nan's replaced\n",
    "                                                                          # by 0.\n",
    " # apply zipcode function to zipcode column\n",
    "toxic_data['geocoded_facility_location_zip'] = toxic_data['geocoded_facility_location_zip'].apply(zipcode)           "
   ]
  },
  {
   "cell_type": "code",
   "execution_count": 10,
   "metadata": {
    "collapsed": true
   },
   "outputs": [],
   "source": [
    "school_data['zip'] = school_data['zip'].apply(zipcode)"
   ]
  },
  {
   "cell_type": "code",
   "execution_count": 11,
   "metadata": {
    "collapsed": true
   },
   "outputs": [],
   "source": [
    "schools_geocode = geo(school_data['geocoded_location']) "
   ]
  },
  {
   "cell_type": "code",
   "execution_count": 12,
   "metadata": {
    "collapsed": true
   },
   "outputs": [],
   "source": [
    "final_school_data = school_data[['schoolname']].copy()\n",
    "final_school_data['LatLon'] = schools_geocode"
   ]
  },
  {
   "cell_type": "code",
   "execution_count": 13,
   "metadata": {
    "collapsed": true
   },
   "outputs": [],
   "source": [
    "final_school_data.dropna(inplace=True)"
   ]
  },
  {
   "cell_type": "code",
   "execution_count": 14,
   "metadata": {
    "collapsed": true
   },
   "outputs": [],
   "source": [
    "dummy_data = splitLatLon(final_school_data['LatLon'])"
   ]
  },
  {
   "cell_type": "code",
   "execution_count": 15,
   "metadata": {
    "collapsed": true
   },
   "outputs": [],
   "source": [
    "final_school_data.reset_index(drop=True, inplace=True)\n",
    "dummy_data.reset_index(drop=True, inplace=True)"
   ]
  },
  {
   "cell_type": "code",
   "execution_count": 16,
   "metadata": {
    "collapsed": true
   },
   "outputs": [],
   "source": [
    "final_school_data = pd.concat([final_school_data, dummy_data], axis=1, ignore_index=True)\n",
    "final_school_data.rename(index=str, columns={0:'School Name',1:'LatLon', 2:'Latitude', 3:'Longitude'}, inplace=True)"
   ]
  },
  {
   "cell_type": "code",
   "execution_count": 17,
   "metadata": {
    "collapsed": true
   },
   "outputs": [],
   "source": [
    "toxic_data = toxic_data['geocoded_facility_location'].dropna()"
   ]
  },
  {
   "cell_type": "code",
   "execution_count": 18,
   "metadata": {
    "collapsed": true
   },
   "outputs": [],
   "source": [
    "final_toxic_data = toxicLatLon(toxic_data)"
   ]
  },
  {
   "cell_type": "code",
   "execution_count": 19,
   "metadata": {
    "collapsed": true
   },
   "outputs": [],
   "source": [
    "final_toxic_data = switchLatLon(final_toxic_data)"
   ]
  },
  {
   "cell_type": "code",
   "execution_count": 20,
   "metadata": {},
   "outputs": [
    {
     "data": {
      "text/html": [
       "<iframe id=\"igraph\" scrolling=\"no\" style=\"border:none;\" seamless=\"seamless\" src=\"https://plot.ly/~seyeadekanye/10.embed\" height=\"525px\" width=\"100%\"></iframe>"
      ],
      "text/plain": [
       "<plotly.tools.PlotlyDisplay object>"
      ]
     },
     "execution_count": 20,
     "metadata": {},
     "output_type": "execute_result"
    }
   ],
   "source": [
    "mapbox_access_token = 'pk.eyJ1Ijoic2V5ZWFkZWthbnllIiwiYSI6ImNqYjB3djM0azF4dXgzM285bWJneHA4eHYifQ.v5rp_rvbjoLRCWz_I3Zv0Q'\n",
    "\n",
    "\n",
    "data = Data([\n",
    "    Scattermapbox(\n",
    "        lat=list(final_school_data['Latitude']),\n",
    "        lon=list(final_school_data['Longitude']),\n",
    "        mode='markers',\n",
    "        marker=Marker(\n",
    "            size=3,\n",
    "            color='rgb(0, 255, 0)',\n",
    "            opacity=1\n",
    "        ),\n",
    "        text=list(final_school_data['School Name']),\n",
    "        hoverinfo='text'\n",
    "    ),\n",
    "    Scattermapbox(\n",
    "        lat=list(final_toxic_data['Latitude']),\n",
    "        lon=list(final_toxic_data['Longitude']),\n",
    "        mode='markers',\n",
    "        marker=Marker(\n",
    "            size=6,\n",
    "            color='rgb(255, 0, 0)',\n",
    "            opacity=0.5\n",
    "        )\n",
    "    )\n",
    "     ])\n",
    "        \n",
    "layout = Layout(\n",
    "    title='Delaware Schools',\n",
    "    autosize=True,\n",
    "    hovermode='closest',\n",
    "    showlegend=False,\n",
    "    mapbox=dict(\n",
    "        accesstoken=mapbox_access_token,\n",
    "        bearing=90,\n",
    "        center=dict(\n",
    "            lat=int(final_school_data['Latitude'].mean()),\n",
    "            lon=int(final_school_data['Longitude'].mean())\n",
    "        ),\n",
    "        pitch=0,\n",
    "        zoom=7,\n",
    "        style='light'\n",
    "    ),\n",
    ")\n",
    "\n",
    "fig = dict(data=data, layout=layout)\n",
    "py.iplot(fig, filename='Delaware Schools 2')"
   ]
  },
  {
   "cell_type": "code",
   "execution_count": null,
   "metadata": {
    "collapsed": true
   },
   "outputs": [],
   "source": []
  }
 ],
 "metadata": {
  "kernelspec": {
   "display_name": "Python [Root]",
   "language": "python",
   "name": "Python [Root]"
  },
  "language_info": {
   "codemirror_mode": {
    "name": "ipython",
    "version": 3
   },
   "file_extension": ".py",
   "mimetype": "text/x-python",
   "name": "python",
   "nbconvert_exporter": "python",
   "pygments_lexer": "ipython3",
   "version": "3.5.3"
  }
 },
 "nbformat": 4,
 "nbformat_minor": 2
}
