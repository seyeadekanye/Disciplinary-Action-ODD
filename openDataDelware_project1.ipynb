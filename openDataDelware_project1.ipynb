{
 "cells": [
  {
   "cell_type": "code",
   "execution_count": 60,
   "metadata": {
    "collapsed": true
   },
   "outputs": [],
   "source": [
    "# Imports and all that good stuff\n",
    "\n",
    "import pandas as pd\n",
    "import numpy as np\n",
    "import matplotlib as plt\n",
    "import requests\n",
    "import json\n",
    "\n",
    "from datetime import date\n",
    "from bs4 import BeautifulSoup\n",
    "%matplotlib inline\n",
    "from matplotlib import style\n",
    "style.use('seaborn-white')"
   ]
  },
  {
   "cell_type": "code",
   "execution_count": 19,
   "metadata": {},
   "outputs": [
    {
     "data": {
      "text/plain": [
       "array(['accid', 'basiscode1', 'basiscode2', 'calc_off_dis',\n",
       "       'calc_off_er_b', 'calc_off_rcy_b', 'calc_rel_b', 'cas_no',\n",
       "       'cert_name', 'cert_title', 'chem_name', 'cont_e_address',\n",
       "       'cont_name', 'cont_phone', 'fac_city', 'fac_county', 'fac_mailcity',\n",
       "       'fac_mailcounty', 'fac_mailstate', 'fac_mailstreet1',\n",
       "       'fac_mailstreet2', 'fac_mailzip', 'fac_name', 'fac_street1',\n",
       "       'fac_zip', 'form_a', 'form_r', 'fugitive', 'fugitivebasis',\n",
       "       'geocoded_facility_location', 'geocoded_facility_location_address',\n",
       "       'geocoded_facility_location_city',\n",
       "       'geocoded_facility_location_state',\n",
       "       'geocoded_facility_location_zip', 'landfarm', 'landfarmbasis',\n",
       "       'landfill', 'landfillbasis', 'landimp', 'landimp_othr',\n",
       "       'landimp_othrbasis', 'landimpbasis', 'landothr', 'landothrbasis',\n",
       "       'max_onsite', 'metal', 'metal_to_potw', 'naics', 'naics1', 'naics2',\n",
       "       'naics3', 'naics4', 'naics5', 'naics6', 'non_potw_off_tre',\n",
       "       'off_basis1', 'off_basis2', 'off_basis3', 'off_basis4',\n",
       "       'off_basis5', 'off_basis6', 'off_basis7', 'off_basis8',\n",
       "       'off_basis9', 'off_city1', 'off_city2', 'off_city3', 'off_city4',\n",
       "       'off_city5', 'off_city6', 'off_city7', 'off_city8', 'off_city9',\n",
       "       'off_er_b', 'off_name1', 'off_name2', 'off_name3', 'off_name4',\n",
       "       'off_name5', 'off_name6', 'off_name7', 'off_name8', 'off_name9',\n",
       "       'off_rcy_b', 'off_state1', 'off_state2', 'off_state3', 'off_state4',\n",
       "       'off_state5', 'off_state6', 'off_state7', 'off_state8',\n",
       "       'off_state9', 'off_ste_rel1', 'off_ste_rel2', 'off_ste_rel3',\n",
       "       'off_ste_rel4', 'off_ste_rel5', 'off_ste_rel6', 'off_ste_rel7',\n",
       "       'off_ste_rel8', 'off_ste_rel9', 'off_ste_tre1', 'off_ste_tre2',\n",
       "       'off_ste_tre3', 'off_ste_tre4', 'off_ste_tre5', 'off_ste_tre6',\n",
       "       'off_ste_tre7', 'off_ste_tre8', 'off_ste_tre9', 'off_tre',\n",
       "       'on_er_b', 'on_rcy_b', 'on_tre_b', 'p_index', 'potw', 'potw2',\n",
       "       'potwbasis1', 'potwbasis2', 'potwcity1', 'potwcity2', 'potwfac1',\n",
       "       'potwfac2', 'potwstate1', 'potwstate2', 'rcra_rel', 'rcra_relbasis',\n",
       "       'rel_81_a', 'rel_81_b', 'rel_81_c', 'rel_81_d', 'release_b',\n",
       "       'report_num', 'repyr', 'revision', 'revisioncode1', 'revisioncode2',\n",
       "       'river1', 'river2', 'riverpercent1', 'riverpercent2', 'stack',\n",
       "       'stackbasis', 'tech_e_address', 'tech_name', 'tech_phone',\n",
       "       'total_to_air', 'total_to_land', 'total_to_water', 'trifacid',\n",
       "       'water1', 'water2', 'withdrawal', 'withdrawalcode1',\n",
       "       'withdrawalcode2'], dtype=object)"
      ]
     },
     "execution_count": 19,
     "metadata": {},
     "output_type": "execute_result"
    }
   ],
   "source": [
    "toxic_data_url = \"https://data.delaware.gov/resource/u2vy-dniy.csv\"\n",
    "pd.read_csv(toxic_data_url).columns.values # get column names"
   ]
  },
  {
   "cell_type": "code",
   "execution_count": 21,
   "metadata": {},
   "outputs": [],
   "source": [
    "columns = ['geocoded_facility_location','geocoded_facility_location_address','geocoded_facility_location_city','geocoded_facility_location_state','geocoded_facility_location_zip']\n",
    "toxic_data = pd.read_csv(toxic_data_url, usecols=columns)"
   ]
  },
  {
   "cell_type": "code",
   "execution_count": 22,
   "metadata": {},
   "outputs": [
    {
     "data": {
      "text/html": [
       "<div>\n",
       "<table border=\"1\" class=\"dataframe\">\n",
       "  <thead>\n",
       "    <tr style=\"text-align: right;\">\n",
       "      <th></th>\n",
       "      <th>geocoded_facility_location</th>\n",
       "      <th>geocoded_facility_location_address</th>\n",
       "      <th>geocoded_facility_location_city</th>\n",
       "      <th>geocoded_facility_location_state</th>\n",
       "      <th>geocoded_facility_location_zip</th>\n",
       "    </tr>\n",
       "  </thead>\n",
       "  <tbody>\n",
       "    <tr>\n",
       "      <th>0</th>\n",
       "      <td>NaN</td>\n",
       "      <td>1645 RIVER RD</td>\n",
       "      <td>DELAWARE CITY</td>\n",
       "      <td>DE</td>\n",
       "      <td>19706.0</td>\n",
       "    </tr>\n",
       "    <tr>\n",
       "      <th>1</th>\n",
       "      <td>NaN</td>\n",
       "      <td>436 CES/CC 600 CHEVRON AVE</td>\n",
       "      <td>DOVER AFB</td>\n",
       "      <td>DE</td>\n",
       "      <td>19902.0</td>\n",
       "    </tr>\n",
       "    <tr>\n",
       "      <th>2</th>\n",
       "      <td>NaN</td>\n",
       "      <td>436 CES/CC 600 CHEVRON AVE</td>\n",
       "      <td>DOVER AFB</td>\n",
       "      <td>DE</td>\n",
       "      <td>19902.0</td>\n",
       "    </tr>\n",
       "    <tr>\n",
       "      <th>3</th>\n",
       "      <td>NaN</td>\n",
       "      <td>436 CES/CC 600 CHEVRON AVE</td>\n",
       "      <td>DOVER AFB</td>\n",
       "      <td>DE</td>\n",
       "      <td>19902.0</td>\n",
       "    </tr>\n",
       "    <tr>\n",
       "      <th>4</th>\n",
       "      <td>NaN</td>\n",
       "      <td>436 CES/CC 600 CHEVRON AVE</td>\n",
       "      <td>DOVER AFB</td>\n",
       "      <td>DE</td>\n",
       "      <td>19902.0</td>\n",
       "    </tr>\n",
       "  </tbody>\n",
       "</table>\n",
       "</div>"
      ],
      "text/plain": [
       "  geocoded_facility_location geocoded_facility_location_address  \\\n",
       "0                        NaN                      1645 RIVER RD   \n",
       "1                        NaN         436 CES/CC 600 CHEVRON AVE   \n",
       "2                        NaN         436 CES/CC 600 CHEVRON AVE   \n",
       "3                        NaN         436 CES/CC 600 CHEVRON AVE   \n",
       "4                        NaN         436 CES/CC 600 CHEVRON AVE   \n",
       "\n",
       "  geocoded_facility_location_city geocoded_facility_location_state  \\\n",
       "0                   DELAWARE CITY                               DE   \n",
       "1                       DOVER AFB                               DE   \n",
       "2                       DOVER AFB                               DE   \n",
       "3                       DOVER AFB                               DE   \n",
       "4                       DOVER AFB                               DE   \n",
       "\n",
       "   geocoded_facility_location_zip  \n",
       "0                         19706.0  \n",
       "1                         19902.0  \n",
       "2                         19902.0  \n",
       "3                         19902.0  \n",
       "4                         19902.0  "
      ]
     },
     "execution_count": 22,
     "metadata": {},
     "output_type": "execute_result"
    }
   ],
   "source": [
    "toxic_data.head() # To make sure we grabbed the right columns"
   ]
  },
  {
   "cell_type": "code",
   "execution_count": 48,
   "metadata": {},
   "outputs": [
    {
     "data": {
      "text/plain": [
       "array(['city', 'county', 'districtcode', 'districtname', 'districttype',\n",
       "       'educationlevel', 'geocoded_location', 'hasec',\n",
       "       'haselementarygrade', 'hashighgrade', 'haskn', 'hasmiddlegrade',\n",
       "       'haspk', 'highestgrade', 'isungraded', 'lowestgrade', 'schoolcode',\n",
       "       'schoolname', 'schooltype', 'schoolyear', 'state', 'street1',\n",
       "       'street2', 'zip'], dtype=object)"
      ]
     },
     "execution_count": 48,
     "metadata": {},
     "output_type": "execute_result"
    }
   ],
   "source": [
    "school_data_url = \"https://data.delaware.gov/resource/tdwa-q9bt.json\"\n",
    "pd.read_json(school_data_url).columns.values # get column names"
   ]
  },
  {
   "cell_type": "code",
   "execution_count": 49,
   "metadata": {},
   "outputs": [],
   "source": [
    "#columns = ['schoolname', 'schooltype','geocoded_location','street1','street2','state','zip']\n",
    "school_data = pd.read_json(school_data_url)"
   ]
  },
  {
   "cell_type": "code",
   "execution_count": 50,
   "metadata": {},
   "outputs": [
    {
     "data": {
      "text/html": [
       "<div>\n",
       "<table border=\"1\" class=\"dataframe\">\n",
       "  <thead>\n",
       "    <tr style=\"text-align: right;\">\n",
       "      <th></th>\n",
       "      <th>city</th>\n",
       "      <th>county</th>\n",
       "      <th>districtcode</th>\n",
       "      <th>districtname</th>\n",
       "      <th>districttype</th>\n",
       "      <th>educationlevel</th>\n",
       "      <th>geocoded_location</th>\n",
       "      <th>hasec</th>\n",
       "      <th>haselementarygrade</th>\n",
       "      <th>hashighgrade</th>\n",
       "      <th>...</th>\n",
       "      <th>isungraded</th>\n",
       "      <th>lowestgrade</th>\n",
       "      <th>schoolcode</th>\n",
       "      <th>schoolname</th>\n",
       "      <th>schooltype</th>\n",
       "      <th>schoolyear</th>\n",
       "      <th>state</th>\n",
       "      <th>street1</th>\n",
       "      <th>street2</th>\n",
       "      <th>zip</th>\n",
       "    </tr>\n",
       "  </thead>\n",
       "  <tbody>\n",
       "    <tr>\n",
       "      <th>0</th>\n",
       "      <td>Camden</td>\n",
       "      <td>Kent</td>\n",
       "      <td>10</td>\n",
       "      <td>Caesar Rodney School District</td>\n",
       "      <td>Regular</td>\n",
       "      <td>Elementary</td>\n",
       "      <td>{'human_address': '{\"address\":\"238 Sorghum Mil...</td>\n",
       "      <td>0</td>\n",
       "      <td>1</td>\n",
       "      <td>0</td>\n",
       "      <td>...</td>\n",
       "      <td>0</td>\n",
       "      <td>01</td>\n",
       "      <td>610</td>\n",
       "      <td>Allen Frear Elementary School</td>\n",
       "      <td>PUBLIC</td>\n",
       "      <td>2016</td>\n",
       "      <td>DE</td>\n",
       "      <td>238 Sorghum Mill Road</td>\n",
       "      <td>--</td>\n",
       "      <td>19934</td>\n",
       "    </tr>\n",
       "    <tr>\n",
       "      <th>1</th>\n",
       "      <td>Magnolia</td>\n",
       "      <td>Kent</td>\n",
       "      <td>10</td>\n",
       "      <td>Caesar Rodney School District</td>\n",
       "      <td>Regular</td>\n",
       "      <td>Kindergarten</td>\n",
       "      <td>{'human_address': '{\"address\":\"Post Office Box...</td>\n",
       "      <td>0</td>\n",
       "      <td>0</td>\n",
       "      <td>0</td>\n",
       "      <td>...</td>\n",
       "      <td>0</td>\n",
       "      <td>KG</td>\n",
       "      <td>611</td>\n",
       "      <td>J. Ralph McIlvaine Early Childhood Center</td>\n",
       "      <td>PUBLIC</td>\n",
       "      <td>2016</td>\n",
       "      <td>DE</td>\n",
       "      <td>Post Office Box 258</td>\n",
       "      <td>11 East Walnut</td>\n",
       "      <td>19962</td>\n",
       "    </tr>\n",
       "    <tr>\n",
       "      <th>2</th>\n",
       "      <td>Dover</td>\n",
       "      <td>Kent</td>\n",
       "      <td>10</td>\n",
       "      <td>Caesar Rodney School District</td>\n",
       "      <td>Regular</td>\n",
       "      <td>Elementary</td>\n",
       "      <td>{'human_address': '{\"address\":\"3100 Hawthorne ...</td>\n",
       "      <td>0</td>\n",
       "      <td>1</td>\n",
       "      <td>0</td>\n",
       "      <td>...</td>\n",
       "      <td>0</td>\n",
       "      <td>01</td>\n",
       "      <td>612</td>\n",
       "      <td>Major George S. Welch Elementary School</td>\n",
       "      <td>PUBLIC</td>\n",
       "      <td>2016</td>\n",
       "      <td>DE</td>\n",
       "      <td>3100 Hawthorne Drive</td>\n",
       "      <td>--</td>\n",
       "      <td>199015391</td>\n",
       "    </tr>\n",
       "    <tr>\n",
       "      <th>3</th>\n",
       "      <td>Camden</td>\n",
       "      <td>Kent</td>\n",
       "      <td>10</td>\n",
       "      <td>Caesar Rodney School District</td>\n",
       "      <td>Regular</td>\n",
       "      <td>Elementary</td>\n",
       "      <td>{'human_address': '{\"address\":\"5 Old North Roa...</td>\n",
       "      <td>0</td>\n",
       "      <td>1</td>\n",
       "      <td>0</td>\n",
       "      <td>...</td>\n",
       "      <td>0</td>\n",
       "      <td>KG</td>\n",
       "      <td>615</td>\n",
       "      <td>Kent Elementary Intensive Learning Center</td>\n",
       "      <td>PUBLIC</td>\n",
       "      <td>2016</td>\n",
       "      <td>DE</td>\n",
       "      <td>5 Old North Road</td>\n",
       "      <td>--</td>\n",
       "      <td>199341247</td>\n",
       "    </tr>\n",
       "    <tr>\n",
       "      <th>4</th>\n",
       "      <td>Dover</td>\n",
       "      <td>Kent</td>\n",
       "      <td>10</td>\n",
       "      <td>Caesar Rodney School District</td>\n",
       "      <td>Regular</td>\n",
       "      <td>Elementary</td>\n",
       "      <td>{'human_address': '{\"address\":\"3874 Upper King...</td>\n",
       "      <td>0</td>\n",
       "      <td>1</td>\n",
       "      <td>0</td>\n",
       "      <td>...</td>\n",
       "      <td>0</td>\n",
       "      <td>01</td>\n",
       "      <td>616</td>\n",
       "      <td>Nellie Hughes Stokes Elementary School</td>\n",
       "      <td>PUBLIC</td>\n",
       "      <td>2016</td>\n",
       "      <td>DE</td>\n",
       "      <td>3874 Upper King Road</td>\n",
       "      <td>--</td>\n",
       "      <td>19904</td>\n",
       "    </tr>\n",
       "  </tbody>\n",
       "</table>\n",
       "<p>5 rows × 24 columns</p>\n",
       "</div>"
      ],
      "text/plain": [
       "       city county  districtcode                   districtname districttype  \\\n",
       "0    Camden   Kent            10  Caesar Rodney School District      Regular   \n",
       "1  Magnolia   Kent            10  Caesar Rodney School District      Regular   \n",
       "2     Dover   Kent            10  Caesar Rodney School District      Regular   \n",
       "3    Camden   Kent            10  Caesar Rodney School District      Regular   \n",
       "4     Dover   Kent            10  Caesar Rodney School District      Regular   \n",
       "\n",
       "  educationlevel                                  geocoded_location  hasec  \\\n",
       "0     Elementary  {'human_address': '{\"address\":\"238 Sorghum Mil...      0   \n",
       "1   Kindergarten  {'human_address': '{\"address\":\"Post Office Box...      0   \n",
       "2     Elementary  {'human_address': '{\"address\":\"3100 Hawthorne ...      0   \n",
       "3     Elementary  {'human_address': '{\"address\":\"5 Old North Roa...      0   \n",
       "4     Elementary  {'human_address': '{\"address\":\"3874 Upper King...      0   \n",
       "\n",
       "   haselementarygrade  hashighgrade    ...      isungraded  lowestgrade  \\\n",
       "0                   1             0    ...               0           01   \n",
       "1                   0             0    ...               0           KG   \n",
       "2                   1             0    ...               0           01   \n",
       "3                   1             0    ...               0           KG   \n",
       "4                   1             0    ...               0           01   \n",
       "\n",
       "   schoolcode                                 schoolname  schooltype  \\\n",
       "0         610              Allen Frear Elementary School      PUBLIC   \n",
       "1         611  J. Ralph McIlvaine Early Childhood Center      PUBLIC   \n",
       "2         612    Major George S. Welch Elementary School      PUBLIC   \n",
       "3         615  Kent Elementary Intensive Learning Center      PUBLIC   \n",
       "4         616     Nellie Hughes Stokes Elementary School      PUBLIC   \n",
       "\n",
       "  schoolyear  state                street1         street2        zip  \n",
       "0       2016     DE  238 Sorghum Mill Road              --      19934  \n",
       "1       2016     DE    Post Office Box 258  11 East Walnut      19962  \n",
       "2       2016     DE   3100 Hawthorne Drive              --  199015391  \n",
       "3       2016     DE       5 Old North Road              --  199341247  \n",
       "4       2016     DE   3874 Upper King Road              --      19904  \n",
       "\n",
       "[5 rows x 24 columns]"
      ]
     },
     "execution_count": 50,
     "metadata": {},
     "output_type": "execute_result"
    }
   ],
   "source": [
    "school_data.head()"
   ]
  },
  {
   "cell_type": "code",
   "execution_count": 51,
   "metadata": {
    "collapsed": true
   },
   "outputs": [],
   "source": [
    "json_data = school_data['geocoded_location']"
   ]
  },
  {
   "cell_type": "code",
   "execution_count": 57,
   "metadata": {},
   "outputs": [],
   "source": [
    "df = json_data.to_frame()"
   ]
  },
  {
   "cell_type": "code",
   "execution_count": 62,
   "metadata": {},
   "outputs": [
    {
     "data": {
      "text/html": [
       "<div>\n",
       "<table border=\"1\" class=\"dataframe\">\n",
       "  <thead>\n",
       "    <tr style=\"text-align: right;\">\n",
       "      <th></th>\n",
       "      <th>geocoded_location</th>\n",
       "    </tr>\n",
       "  </thead>\n",
       "  <tbody>\n",
       "    <tr>\n",
       "      <th>0</th>\n",
       "      <td>{'human_address': '{\"address\":\"238 Sorghum Mil...</td>\n",
       "    </tr>\n",
       "    <tr>\n",
       "      <th>1</th>\n",
       "      <td>{'human_address': '{\"address\":\"Post Office Box...</td>\n",
       "    </tr>\n",
       "    <tr>\n",
       "      <th>2</th>\n",
       "      <td>{'human_address': '{\"address\":\"3100 Hawthorne ...</td>\n",
       "    </tr>\n",
       "    <tr>\n",
       "      <th>3</th>\n",
       "      <td>{'human_address': '{\"address\":\"5 Old North Roa...</td>\n",
       "    </tr>\n",
       "    <tr>\n",
       "      <th>4</th>\n",
       "      <td>{'human_address': '{\"address\":\"3874 Upper King...</td>\n",
       "    </tr>\n",
       "  </tbody>\n",
       "</table>\n",
       "</div>"
      ],
      "text/plain": [
       "                                   geocoded_location\n",
       "0  {'human_address': '{\"address\":\"238 Sorghum Mil...\n",
       "1  {'human_address': '{\"address\":\"Post Office Box...\n",
       "2  {'human_address': '{\"address\":\"3100 Hawthorne ...\n",
       "3  {'human_address': '{\"address\":\"5 Old North Roa...\n",
       "4  {'human_address': '{\"address\":\"3874 Upper King..."
      ]
     },
     "execution_count": 62,
     "metadata": {},
     "output_type": "execute_result"
    }
   ],
   "source": [
    "df.head()"
   ]
  },
  {
   "cell_type": "code",
   "execution_count": 75,
   "metadata": {},
   "outputs": [],
   "source": [
    "dum = df.loc[0].to_json()"
   ]
  },
  {
   "cell_type": "code",
   "execution_count": 78,
   "metadata": {},
   "outputs": [],
   "source": [
    "dum2 = json.loads(dum)"
   ]
  },
  {
   "cell_type": "code",
   "execution_count": 79,
   "metadata": {},
   "outputs": [
    {
     "data": {
      "text/plain": [
       "dict"
      ]
     },
     "execution_count": 79,
     "metadata": {},
     "output_type": "execute_result"
    }
   ],
   "source": [
    "type(dum2)"
   ]
  },
  {
   "cell_type": "code",
   "execution_count": 80,
   "metadata": {},
   "outputs": [
    {
     "data": {
      "text/html": [
       "<div>\n",
       "<table border=\"1\" class=\"dataframe\">\n",
       "  <thead>\n",
       "    <tr style=\"text-align: right;\">\n",
       "      <th></th>\n",
       "      <th>geocoded_location</th>\n",
       "    </tr>\n",
       "  </thead>\n",
       "  <tbody>\n",
       "    <tr>\n",
       "      <th>human_address</th>\n",
       "      <td>{\"address\":\"238 Sorghum Mill Road\",\"city\":\"Cam...</td>\n",
       "    </tr>\n",
       "    <tr>\n",
       "      <th>latitude</th>\n",
       "      <td>39.102626</td>\n",
       "    </tr>\n",
       "    <tr>\n",
       "      <th>longitude</th>\n",
       "      <td>-75.512466</td>\n",
       "    </tr>\n",
       "    <tr>\n",
       "      <th>needs_recoding</th>\n",
       "      <td>False</td>\n",
       "    </tr>\n",
       "  </tbody>\n",
       "</table>\n",
       "</div>"
      ],
      "text/plain": [
       "                                                geocoded_location\n",
       "human_address   {\"address\":\"238 Sorghum Mill Road\",\"city\":\"Cam...\n",
       "latitude                                                39.102626\n",
       "longitude                                              -75.512466\n",
       "needs_recoding                                              False"
      ]
     },
     "execution_count": 80,
     "metadata": {},
     "output_type": "execute_result"
    }
   ],
   "source": [
    "pd.DataFrame.from_dict(dum2)"
   ]
  },
  {
   "cell_type": "code",
   "execution_count": null,
   "metadata": {
    "collapsed": true
   },
   "outputs": [],
   "source": []
  }
 ],
 "metadata": {
  "anaconda-cloud": {},
  "kernelspec": {
   "display_name": "Python [Root]",
   "language": "python",
   "name": "Python [Root]"
  },
  "language_info": {
   "codemirror_mode": {
    "name": "ipython",
    "version": 3
   },
   "file_extension": ".py",
   "mimetype": "text/x-python",
   "name": "python",
   "nbconvert_exporter": "python",
   "pygments_lexer": "ipython3",
   "version": "3.5.3"
  }
 },
 "nbformat": 4,
 "nbformat_minor": 2
}
