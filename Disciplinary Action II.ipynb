{
 "cells": [
  {
   "cell_type": "markdown",
   "metadata": {},
   "source": [
    "#  Professional and Occupational Licensing\n",
    "\n",
    "This notebook is a continuation of exploratory analysis conducted on the [Disciplinary Actions for Professional and Occupational Licensees dataset for the state of delaware](https://github.com/seyeadekanye/Disciplinary-Action-ODD/blob/master/Disciplinary%20Action.ipynb). This dataset contains \"This dataset contains information about individuals who have applied for, currently hold or previously held a professional or occupational license issued by the State of Delaware\" (for certain industries).\n",
    "\n",
    "### We hope to answer the follwong questions from this dataset:\n",
    "* \n",
    "* \n",
    "* \n",
    "\n",
    "We will be using the pandas module for the data manipulation, while using the matplotlib and seaborn packages for our visualizations.\n",
    "\n",
    "### Necessary data  set(s)\n",
    "[Disciplinary Actions for Professional and Occupational Licensees](https://data.delaware.gov/Licenses-and-Certifications/Disciplinary-Actions-for-Professional-and-Occupati/dz6p-akeq)\n",
    "\n",
    "[Professional and Occupational Licensing] (https://data.delaware.gov/Licenses-and-Certifications/Professional-and-Occupational-Licensing/pjnv-eaih)\n",
    "\n",
    "\n",
    "\n",
    "\n",
    "\n",
    "*Written on January 29, 2018 by Seye Adekanye*"
   ]
  },
  {
   "cell_type": "code",
   "execution_count": 27,
   "metadata": {
    "collapsed": true
   },
   "outputs": [],
   "source": [
    "import pandas as pd\n",
    "import matplotlib.pyplot as plt\n",
    "import seaborn as sns\n",
    "\n",
    "%matplotlib notebook"
   ]
  },
  {
   "cell_type": "code",
   "execution_count": 105,
   "metadata": {},
   "outputs": [],
   "source": [
    "url_licenses = \"https://data.delaware.gov/resource/dhqa-h9is.csv?$limit=300000\"\n",
    "data = pd.read_csv(url_licenses, low_memory=False)"
   ]
  },
  {
   "cell_type": "code",
   "execution_count": 124,
   "metadata": {
    "collapsed": true
   },
   "outputs": [],
   "source": [
    "url_fines = \"https://data.delaware.gov/resource/wqvn-hw3m.csv?$limit=6000\"\n",
    "data2 = pd.read_csv(url_fines, low_memory=False)"
   ]
  },
  {
   "cell_type": "code",
   "execution_count": 29,
   "metadata": {},
   "outputs": [
    {
     "data": {
      "text/html": [
       "<div>\n",
       "<style>\n",
       "    .dataframe thead tr:only-child th {\n",
       "        text-align: right;\n",
       "    }\n",
       "\n",
       "    .dataframe thead th {\n",
       "        text-align: left;\n",
       "    }\n",
       "\n",
       "    .dataframe tbody tr th {\n",
       "        vertical-align: top;\n",
       "    }\n",
       "</style>\n",
       "<table border=\"1\" class=\"dataframe\">\n",
       "  <thead>\n",
       "    <tr style=\"text-align: right;\">\n",
       "      <th></th>\n",
       "      <th>city</th>\n",
       "      <th>combined_name</th>\n",
       "      <th>count</th>\n",
       "      <th>country</th>\n",
       "      <th>disciplinary_action</th>\n",
       "      <th>expiration_date</th>\n",
       "      <th>first_name</th>\n",
       "      <th>issue_date</th>\n",
       "      <th>last_name</th>\n",
       "      <th>license_no</th>\n",
       "      <th>license_status</th>\n",
       "      <th>license_type</th>\n",
       "      <th>licensee_url</th>\n",
       "      <th>licensee_url_description</th>\n",
       "      <th>profession_id</th>\n",
       "      <th>state</th>\n",
       "      <th>zip_code</th>\n",
       "    </tr>\n",
       "  </thead>\n",
       "  <tbody>\n",
       "    <tr>\n",
       "      <th>0</th>\n",
       "      <td>Philadelphia</td>\n",
       "      <td>Paulson, Melyssa M.</td>\n",
       "      <td>1</td>\n",
       "      <td>United States</td>\n",
       "      <td>N</td>\n",
       "      <td>2003-03-31T00:00:00.000</td>\n",
       "      <td>Melyssa</td>\n",
       "      <td>2001-08-09T14:49:00.000</td>\n",
       "      <td>Paulson</td>\n",
       "      <td>C7-0002313</td>\n",
       "      <td>Expired-Must Reapply</td>\n",
       "      <td>ACGME Training</td>\n",
       "      <td>https://dpronline.delaware.gov/mylicense%20web...</td>\n",
       "      <td>NaN</td>\n",
       "      <td>Medical Practice</td>\n",
       "      <td>PA</td>\n",
       "      <td>19107</td>\n",
       "    </tr>\n",
       "    <tr>\n",
       "      <th>1</th>\n",
       "      <td>Wilmington</td>\n",
       "      <td>Dholakia, Madhun</td>\n",
       "      <td>1</td>\n",
       "      <td>United States</td>\n",
       "      <td>N</td>\n",
       "      <td>2005-03-31T00:00:00.000</td>\n",
       "      <td>Madhun</td>\n",
       "      <td>2004-07-26T00:00:00.000</td>\n",
       "      <td>Dholakia</td>\n",
       "      <td>C7-0003059</td>\n",
       "      <td>Expired-Must Reapply</td>\n",
       "      <td>ACGME Training</td>\n",
       "      <td>https://dpronline.delaware.gov/mylicense%20web...</td>\n",
       "      <td>NaN</td>\n",
       "      <td>Medical Practice</td>\n",
       "      <td>DE</td>\n",
       "      <td>19899</td>\n",
       "    </tr>\n",
       "    <tr>\n",
       "      <th>2</th>\n",
       "      <td>Collegedale</td>\n",
       "      <td>Sims, Naomi Reneau</td>\n",
       "      <td>1</td>\n",
       "      <td>United States</td>\n",
       "      <td>N</td>\n",
       "      <td>2001-09-30T00:00:00.000</td>\n",
       "      <td>Naomi</td>\n",
       "      <td>2001-01-17T00:00:00.000</td>\n",
       "      <td>Sims</td>\n",
       "      <td>L1-0029470</td>\n",
       "      <td>Lapsed-Must Reinstate</td>\n",
       "      <td>Registered Nurse</td>\n",
       "      <td>https://dpronline.delaware.gov/mylicense%20web...</td>\n",
       "      <td>NaN</td>\n",
       "      <td>Nursing</td>\n",
       "      <td>TN</td>\n",
       "      <td>37315</td>\n",
       "    </tr>\n",
       "    <tr>\n",
       "      <th>3</th>\n",
       "      <td>Newark</td>\n",
       "      <td>Macklin, Kevin, Sr.</td>\n",
       "      <td>1</td>\n",
       "      <td>United States</td>\n",
       "      <td>N</td>\n",
       "      <td>2010-03-31T00:00:00.000</td>\n",
       "      <td>Kevin</td>\n",
       "      <td>2005-10-14T00:00:00.000</td>\n",
       "      <td>Macklin</td>\n",
       "      <td>D1-0001215</td>\n",
       "      <td>Null and Void</td>\n",
       "      <td>Barber</td>\n",
       "      <td>https://dpronline.delaware.gov/mylicense%20web...</td>\n",
       "      <td>NaN</td>\n",
       "      <td>Cosmetology and Barbering</td>\n",
       "      <td>DE</td>\n",
       "      <td>19711</td>\n",
       "    </tr>\n",
       "    <tr>\n",
       "      <th>4</th>\n",
       "      <td>Pasadena</td>\n",
       "      <td>Miller, Ronald J</td>\n",
       "      <td>1</td>\n",
       "      <td>United States</td>\n",
       "      <td>N</td>\n",
       "      <td>2006-06-30T00:00:00.000</td>\n",
       "      <td>Ronald</td>\n",
       "      <td>2005-03-10T00:00:00.000</td>\n",
       "      <td>Miller</td>\n",
       "      <td>T1-0005253</td>\n",
       "      <td>Expired-Must Reapply</td>\n",
       "      <td>Master Electrician</td>\n",
       "      <td>https://dpronline.delaware.gov/mylicense%20web...</td>\n",
       "      <td>NaN</td>\n",
       "      <td>Electrical Examiners</td>\n",
       "      <td>MD</td>\n",
       "      <td>21122</td>\n",
       "    </tr>\n",
       "  </tbody>\n",
       "</table>\n",
       "</div>"
      ],
      "text/plain": [
       "           city        combined_name  count        country  \\\n",
       "0  Philadelphia  Paulson, Melyssa M.      1  United States   \n",
       "1    Wilmington     Dholakia, Madhun      1  United States   \n",
       "2   Collegedale   Sims, Naomi Reneau      1  United States   \n",
       "3        Newark  Macklin, Kevin, Sr.      1  United States   \n",
       "4      Pasadena     Miller, Ronald J      1  United States   \n",
       "\n",
       "  disciplinary_action          expiration_date first_name  \\\n",
       "0                   N  2003-03-31T00:00:00.000    Melyssa   \n",
       "1                   N  2005-03-31T00:00:00.000     Madhun   \n",
       "2                   N  2001-09-30T00:00:00.000      Naomi   \n",
       "3                   N  2010-03-31T00:00:00.000      Kevin   \n",
       "4                   N  2006-06-30T00:00:00.000     Ronald   \n",
       "\n",
       "                issue_date last_name  license_no         license_status  \\\n",
       "0  2001-08-09T14:49:00.000   Paulson  C7-0002313   Expired-Must Reapply   \n",
       "1  2004-07-26T00:00:00.000  Dholakia  C7-0003059   Expired-Must Reapply   \n",
       "2  2001-01-17T00:00:00.000      Sims  L1-0029470  Lapsed-Must Reinstate   \n",
       "3  2005-10-14T00:00:00.000   Macklin  D1-0001215          Null and Void   \n",
       "4  2005-03-10T00:00:00.000    Miller  T1-0005253   Expired-Must Reapply   \n",
       "\n",
       "         license_type                                       licensee_url  \\\n",
       "0      ACGME Training  https://dpronline.delaware.gov/mylicense%20web...   \n",
       "1      ACGME Training  https://dpronline.delaware.gov/mylicense%20web...   \n",
       "2    Registered Nurse  https://dpronline.delaware.gov/mylicense%20web...   \n",
       "3              Barber  https://dpronline.delaware.gov/mylicense%20web...   \n",
       "4  Master Electrician  https://dpronline.delaware.gov/mylicense%20web...   \n",
       "\n",
       "   licensee_url_description              profession_id state zip_code  \n",
       "0                       NaN           Medical Practice    PA    19107  \n",
       "1                       NaN           Medical Practice    DE    19899  \n",
       "2                       NaN                    Nursing    TN    37315  \n",
       "3                       NaN  Cosmetology and Barbering    DE    19711  \n",
       "4                       NaN       Electrical Examiners    MD    21122  "
      ]
     },
     "execution_count": 29,
     "metadata": {},
     "output_type": "execute_result"
    }
   ],
   "source": [
    "data.head()"
   ]
  },
  {
   "cell_type": "code",
   "execution_count": 106,
   "metadata": {},
   "outputs": [
    {
     "data": {
      "text/plain": [
       "(251605, 17)"
      ]
     },
     "execution_count": 106,
     "metadata": {},
     "output_type": "execute_result"
    }
   ],
   "source": [
    "data.shape"
   ]
  },
  {
   "cell_type": "code",
   "execution_count": 31,
   "metadata": {},
   "outputs": [
    {
     "data": {
      "text/plain": [
       "array(['Medical Practice', 'Nursing', 'Cosmetology and Barbering',\n",
       "       'Electrical Examiners', 'Real Estate', 'Charitable Gaming',\n",
       "       'Real Estate Appraisers', 'Controlled Substances', 'Geologists',\n",
       "       'Accountancy', 'Architecture', 'Physical Therapy/Athletic Trg',\n",
       "       'Social Work Examiners', 'Pharmacy', 'Landscape Architecture',\n",
       "       'Massage Bodywork', 'Speech and Hearing',\n",
       "       'Nursing Home Administrators', 'Veterinary Medicine', 'Psychology',\n",
       "       'Chiropractic', 'Plumbing/HVACR', 'Funeral Services', 'Dentistry',\n",
       "       'Combative Sports', 'Occupational Therapy', 'Optometry',\n",
       "       'Mental Health', 'Dietitians/Nutritionists', 'Home Inspectors',\n",
       "       'Deadly Weapons Dealers', 'Land Surveyors', 'Pilots',\n",
       "       'Manufactured Home Installation', 'Podiatry', '<any>',\n",
       "       'Adult Entertainment'], dtype=object)"
      ]
     },
     "execution_count": 31,
     "metadata": {},
     "output_type": "execute_result"
    }
   ],
   "source": [
    "data['profession_id'].unique()"
   ]
  },
  {
   "cell_type": "code",
   "execution_count": 33,
   "metadata": {},
   "outputs": [
    {
     "data": {
      "text/html": [
       "<div>\n",
       "<style>\n",
       "    .dataframe thead tr:only-child th {\n",
       "        text-align: right;\n",
       "    }\n",
       "\n",
       "    .dataframe thead th {\n",
       "        text-align: left;\n",
       "    }\n",
       "\n",
       "    .dataframe tbody tr th {\n",
       "        vertical-align: top;\n",
       "    }\n",
       "</style>\n",
       "<table border=\"1\" class=\"dataframe\">\n",
       "  <thead>\n",
       "    <tr style=\"text-align: right;\">\n",
       "      <th></th>\n",
       "      <th>combined_name</th>\n",
       "      <th>count</th>\n",
       "      <th>disp_end</th>\n",
       "      <th>disp_start</th>\n",
       "      <th>first_name</th>\n",
       "      <th>item_text</th>\n",
       "      <th>last_name</th>\n",
       "      <th>license_id_l</th>\n",
       "      <th>license_type</th>\n",
       "      <th>profession_id</th>\n",
       "    </tr>\n",
       "  </thead>\n",
       "  <tbody>\n",
       "    <tr>\n",
       "      <th>0</th>\n",
       "      <td>Jones, Matthew T.</td>\n",
       "      <td>1</td>\n",
       "      <td>NaN</td>\n",
       "      <td>2017-06-13T00:00:00.000</td>\n",
       "      <td>Matthew</td>\n",
       "      <td>Remedial Education</td>\n",
       "      <td>Jones</td>\n",
       "      <td>N1-0002718</td>\n",
       "      <td>Veterinarian</td>\n",
       "      <td>Veterinary Medicine</td>\n",
       "    </tr>\n",
       "    <tr>\n",
       "      <th>1</th>\n",
       "      <td>Jones, Matthew T.</td>\n",
       "      <td>1</td>\n",
       "      <td>NaN</td>\n",
       "      <td>2017-06-13T00:00:00.000</td>\n",
       "      <td>Matthew</td>\n",
       "      <td>Probation</td>\n",
       "      <td>Jones</td>\n",
       "      <td>N1-0002718</td>\n",
       "      <td>Veterinarian</td>\n",
       "      <td>Veterinary Medicine</td>\n",
       "    </tr>\n",
       "    <tr>\n",
       "      <th>2</th>\n",
       "      <td>Fortner, Elizabeth Buckley</td>\n",
       "      <td>1</td>\n",
       "      <td>NaN</td>\n",
       "      <td>2011-06-03T00:00:00.000</td>\n",
       "      <td>Elizabeth</td>\n",
       "      <td>Letter of Reprimand</td>\n",
       "      <td>Fortner</td>\n",
       "      <td>G2-0002068</td>\n",
       "      <td>Dental Hygienist</td>\n",
       "      <td>Dentistry</td>\n",
       "    </tr>\n",
       "    <tr>\n",
       "      <th>3</th>\n",
       "      <td>Hynson, Lauren Marie</td>\n",
       "      <td>1</td>\n",
       "      <td>2017-07-14T00:00:00.000</td>\n",
       "      <td>2017-04-12T00:00:00.000</td>\n",
       "      <td>Lauren</td>\n",
       "      <td>Remedial Education</td>\n",
       "      <td>Hynson</td>\n",
       "      <td>L1-0041565</td>\n",
       "      <td>Registered Nurse</td>\n",
       "      <td>Nursing</td>\n",
       "    </tr>\n",
       "    <tr>\n",
       "      <th>4</th>\n",
       "      <td>Hensley, Leslie A Doughty</td>\n",
       "      <td>1</td>\n",
       "      <td>2017-07-16T00:00:00.000</td>\n",
       "      <td>2013-07-16T00:00:00.000</td>\n",
       "      <td>Leslie</td>\n",
       "      <td>Probation</td>\n",
       "      <td>Hensley</td>\n",
       "      <td>L6-0A00209</td>\n",
       "      <td>Certified Registered Nurse Anesthetist</td>\n",
       "      <td>Nursing</td>\n",
       "    </tr>\n",
       "  </tbody>\n",
       "</table>\n",
       "</div>"
      ],
      "text/plain": [
       "                combined_name  count                 disp_end  \\\n",
       "0           Jones, Matthew T.      1                      NaN   \n",
       "1           Jones, Matthew T.      1                      NaN   \n",
       "2  Fortner, Elizabeth Buckley      1                      NaN   \n",
       "3        Hynson, Lauren Marie      1  2017-07-14T00:00:00.000   \n",
       "4   Hensley, Leslie A Doughty      1  2017-07-16T00:00:00.000   \n",
       "\n",
       "                disp_start first_name            item_text last_name  \\\n",
       "0  2017-06-13T00:00:00.000    Matthew   Remedial Education     Jones   \n",
       "1  2017-06-13T00:00:00.000    Matthew            Probation     Jones   \n",
       "2  2011-06-03T00:00:00.000  Elizabeth  Letter of Reprimand   Fortner   \n",
       "3  2017-04-12T00:00:00.000     Lauren   Remedial Education    Hynson   \n",
       "4  2013-07-16T00:00:00.000     Leslie            Probation   Hensley   \n",
       "\n",
       "  license_id_l                            license_type        profession_id  \n",
       "0   N1-0002718                            Veterinarian  Veterinary Medicine  \n",
       "1   N1-0002718                            Veterinarian  Veterinary Medicine  \n",
       "2   G2-0002068                        Dental Hygienist            Dentistry  \n",
       "3   L1-0041565                        Registered Nurse              Nursing  \n",
       "4   L6-0A00209  Certified Registered Nurse Anesthetist              Nursing  "
      ]
     },
     "execution_count": 33,
     "metadata": {},
     "output_type": "execute_result"
    }
   ],
   "source": [
    "data2.head()"
   ]
  },
  {
   "cell_type": "code",
   "execution_count": 34,
   "metadata": {},
   "outputs": [
    {
     "data": {
      "text/plain": [
       "(5078, 10)"
      ]
     },
     "execution_count": 34,
     "metadata": {},
     "output_type": "execute_result"
    }
   ],
   "source": [
    "data2.shape"
   ]
  },
  {
   "cell_type": "markdown",
   "metadata": {},
   "source": [
    "Which professions are common to both datasets?"
   ]
  },
  {
   "cell_type": "code",
   "execution_count": 107,
   "metadata": {},
   "outputs": [
    {
     "data": {
      "text/plain": [
       "['Manufactured Home Installation',\n",
       " 'Physical Therapy/Athletic Trg',\n",
       " 'Geologists',\n",
       " 'Mental Health',\n",
       " 'Combative Sports',\n",
       " 'Optometry',\n",
       " 'Plumbing/HVACR',\n",
       " 'Land Surveyors',\n",
       " 'Electrical Examiners',\n",
       " 'Speech and Hearing',\n",
       " 'Chiropractic',\n",
       " 'Deadly Weapons Dealers',\n",
       " 'Real Estate',\n",
       " 'Medical Practice',\n",
       " 'Controlled Substances',\n",
       " 'Nursing',\n",
       " 'Social Work Examiners',\n",
       " 'Real Estate Appraisers',\n",
       " 'Massage Bodywork',\n",
       " 'Landscape Architecture',\n",
       " 'Pharmacy',\n",
       " 'Pilots',\n",
       " 'Cosmetology and Barbering',\n",
       " 'Dentistry',\n",
       " 'Accountancy',\n",
       " 'Psychology',\n",
       " 'Podiatry',\n",
       " 'Nursing Home Administrators',\n",
       " 'Home Inspectors',\n",
       " 'Occupational Therapy',\n",
       " 'Charitable Gaming',\n",
       " 'Funeral Services',\n",
       " 'Veterinary Medicine',\n",
       " 'Architecture',\n",
       " 'Adult Entertainment']"
      ]
     },
     "execution_count": 107,
     "metadata": {},
     "output_type": "execute_result"
    }
   ],
   "source": [
    "A = data['profession_id'].unique()\n",
    "B = data2['profession_id'].unique()\n",
    "list(set(A).intersection(set(B)))"
   ]
  },
  {
   "cell_type": "markdown",
   "metadata": {},
   "source": [
    "Drop all rows from `data` dataset where `profession_id` is not in `data2` dataset"
   ]
  },
  {
   "cell_type": "code",
   "execution_count": 108,
   "metadata": {},
   "outputs": [
    {
     "data": {
      "text/plain": [
       "['Dietitians/Nutritionists', '<any>']"
      ]
     },
     "execution_count": 108,
     "metadata": {},
     "output_type": "execute_result"
    }
   ],
   "source": [
    "list(set(A).difference(set(B)))"
   ]
  },
  {
   "cell_type": "code",
   "execution_count": 109,
   "metadata": {
    "scrolled": true
   },
   "outputs": [],
   "source": [
    "data = data[data.profession_id != '<any>']\n",
    "data = data[data.profession_id != 'Dietitians/Nutritionists']"
   ]
  },
  {
   "cell_type": "code",
   "execution_count": 110,
   "metadata": {},
   "outputs": [],
   "source": [
    "data.reset_index(drop=True);"
   ]
  },
  {
   "cell_type": "code",
   "execution_count": 111,
   "metadata": {},
   "outputs": [
    {
     "data": {
      "text/plain": [
       "(251012, 17)"
      ]
     },
     "execution_count": 111,
     "metadata": {},
     "output_type": "execute_result"
    }
   ],
   "source": [
    "data.shape"
   ]
  },
  {
   "cell_type": "code",
   "execution_count": 112,
   "metadata": {},
   "outputs": [
    {
     "data": {
      "text/plain": [
       "22696"
      ]
     },
     "execution_count": 112,
     "metadata": {},
     "output_type": "execute_result"
    }
   ],
   "source": [
    "len(data[data['profession_id']== 'Medical Practice'])"
   ]
  },
  {
   "cell_type": "code",
   "execution_count": 113,
   "metadata": {},
   "outputs": [],
   "source": [
    "count = {}\n",
    "for p in data['profession_id']:\n",
    "    try:\n",
    "        count[p] += 1\n",
    "    except KeyError:\n",
    "        count[p] = 1"
   ]
  },
  {
   "cell_type": "code",
   "execution_count": 114,
   "metadata": {},
   "outputs": [
    {
     "data": {
      "text/plain": [
       "{'Accountancy': 14328,\n",
       " 'Adult Entertainment': 5,\n",
       " 'Architecture': 4078,\n",
       " 'Charitable Gaming': 24958,\n",
       " 'Chiropractic': 746,\n",
       " 'Combative Sports': 384,\n",
       " 'Controlled Substances': 10964,\n",
       " 'Cosmetology and Barbering': 19035,\n",
       " 'Deadly Weapons Dealers': 366,\n",
       " 'Dentistry': 2455,\n",
       " 'Electrical Examiners': 18062,\n",
       " 'Funeral Services': 559,\n",
       " 'Geologists': 949,\n",
       " 'Home Inspectors': 168,\n",
       " 'Land Surveyors': 557,\n",
       " 'Landscape Architecture': 596,\n",
       " 'Manufactured Home Installation': 143,\n",
       " 'Massage Bodywork': 4715,\n",
       " 'Medical Practice': 22696,\n",
       " 'Mental Health': 1087,\n",
       " 'Nursing': 65242,\n",
       " 'Nursing Home Administrators': 658,\n",
       " 'Occupational Therapy': 1870,\n",
       " 'Optometry': 424,\n",
       " 'Pharmacy': 9256,\n",
       " 'Physical Therapy/Athletic Trg': 5936,\n",
       " 'Pilots': 180,\n",
       " 'Plumbing/HVACR': 3261,\n",
       " 'Podiatry': 202,\n",
       " 'Psychology': 1189,\n",
       " 'Real Estate': 26507,\n",
       " 'Real Estate Appraisers': 3307,\n",
       " 'Social Work Examiners': 1501,\n",
       " 'Speech and Hearing': 2303,\n",
       " 'Veterinary Medicine': 2325}"
      ]
     },
     "execution_count": 114,
     "metadata": {},
     "output_type": "execute_result"
    }
   ],
   "source": [
    "count"
   ]
  },
  {
   "cell_type": "markdown",
   "metadata": {},
   "source": [
    "Next we deal with the strange date formats. We will be converting these columns to datetime objects."
   ]
  },
  {
   "cell_type": "code",
   "execution_count": 115,
   "metadata": {
    "collapsed": true
   },
   "outputs": [],
   "source": [
    "from datetime import datetime\n",
    "disciplinary_start_date = []\n",
    "for date in data2['disp_start']:\n",
    "    try:\n",
    "        date = date[0:10]\n",
    "        disciplinary_start_date.append(datetime.strptime(str(date),'%Y-%m-%d'))\n",
    "    except:\n",
    "        disciplinary_start_date.append(date) \n",
    "data2['disp_start'] = disciplinary_start_date\n",
    "        \n",
    "        \n",
    "license_issue_date = []\n",
    "for date in data['issue_date']:\n",
    "    try:\n",
    "        date = date[0:10]\n",
    "        license_issue_date.append(datetime.strptime(str(date),'%Y-%m-%d'))\n",
    "    except:\n",
    "        license_issue_date.append(date)\n",
    "data['issue_date'] = license_issue_date"
   ]
  },
  {
   "cell_type": "code",
   "execution_count": 119,
   "metadata": {
    "collapsed": true
   },
   "outputs": [],
   "source": [
    "license_year = []\n",
    "err = []\n",
    "for date in data['issue_date']:\n",
    "    try:\n",
    "        license_year.append(date.year)\n",
    "    except error as e:\n",
    "        err.append(e)\n",
    "        license_year.append(date)\n",
    "data['licence_year'] = license_year"
   ]
  },
  {
   "cell_type": "code",
   "execution_count": 126,
   "metadata": {},
   "outputs": [],
   "source": [
    "disciplinary_year = []\n",
    "err = []\n",
    "for date in data2['disp_start']:\n",
    "    try:\n",
    "        disciplinary_year.append(date.year)\n",
    "    except error as e:\n",
    "        err.append(e)\n",
    "        disciplinary_year.append(date)\n",
    "data2['disciplinary_year'] = disciplinary_year"
   ]
  },
  {
   "cell_type": "code",
   "execution_count": 137,
   "metadata": {},
   "outputs": [],
   "source": [
    "license_data_2017 = data[data['licence_year']==2017]\n",
    "disciplinary_data_2017 = data2[data2['disciplinary_year']==2017]"
   ]
  },
  {
   "cell_type": "code",
   "execution_count": 139,
   "metadata": {},
   "outputs": [
    {
     "data": {
      "text/plain": [
       "11925"
      ]
     },
     "execution_count": 139,
     "metadata": {},
     "output_type": "execute_result"
    }
   ],
   "source": [
    "len(license_data_2017)"
   ]
  },
  {
   "cell_type": "code",
   "execution_count": 140,
   "metadata": {},
   "outputs": [
    {
     "data": {
      "text/plain": [
       "692"
      ]
     },
     "execution_count": 140,
     "metadata": {},
     "output_type": "execute_result"
    }
   ],
   "source": [
    "len(disciplinary_data_2017)"
   ]
  },
  {
   "cell_type": "code",
   "execution_count": 141,
   "metadata": {},
   "outputs": [
    {
     "data": {
      "text/plain": [
       "0.058029350104821804"
      ]
     },
     "execution_count": 141,
     "metadata": {},
     "output_type": "execute_result"
    }
   ],
   "source": [
    "692/11925"
   ]
  },
  {
   "cell_type": "markdown",
   "metadata": {},
   "source": [
    "A function that tells us in a given year, the ratio of fines recieved to total number of licenses issued"
   ]
  },
  {
   "cell_type": "code",
   "execution_count": 232,
   "metadata": {},
   "outputs": [],
   "source": [
    "def fine_to_license_ratio(license_data, fine_data, column_name1=None, column_name2=None,year=None):\n",
    "    \"\"\"Get ratio of fines to licenses issued in a given year\n",
    "    \n",
    "    Parameters:\n",
    "    -----------\n",
    "    license_data: DataFrame\n",
    "        Any subset of the Professional and Occupational Licensing dataframe   \n",
    "    fine_data: DataFrame\n",
    "        Any subset of the Disciplinary Actions dataframe \n",
    "    year: int\n",
    "        Year to use to subset your data\n",
    "    column_name1: Series\n",
    "        Column containing years in license_data dataset\n",
    "    column_name2: Series\n",
    "        Column containing years in fine_data dataset\n",
    "    \n",
    "    Returns:\n",
    "    --------\n",
    "    tuple\n",
    "        A tuple with year as the first entry and ratio as the second\n",
    "        (year, ratio)\n",
    "    \"\"\"\n",
    "    \n",
    "    int(year)\n",
    "    str(column_name1)\n",
    "    str(column_name2)\n",
    "    \n",
    "    if year not in license_data[column_name1].unique() or year not in fine_data[column_name2].unique():\n",
    "        return  str(year) + \" not a valid year for this dataset\"\n",
    "    else:\n",
    "        license_data = license_data[license_data[column_name1]==year]\n",
    "        fine_data = fine_data[fine_data[column_name2]==year]\n",
    "    try:\n",
    "        ratio = len(fine_data)/len(license_data) * 100\n",
    "        print(\"In the year \" + str(year) + \", \" + str(ratio)[:4] + \"% of license recipients were issued disciplinary action(s)\"\n",
    "          + \"\\n\" +str(len(license_data)) + \" licenses issued, \" + str(len(fine_data)) + \" fines issued\")\n",
    "        return year, ratio\n",
    "    except ZeroDivisionError:\n",
    "        print(\"Hmmm...It looks like there is are no licenses yet for the year \" + str(year))\n",
    "    "
   ]
  },
  {
   "cell_type": "code",
   "execution_count": 233,
   "metadata": {},
   "outputs": [
    {
     "name": "stdout",
     "output_type": "stream",
     "text": [
      "In the year 2017, 5.80% of license recipients were issued disciplinary action(s)\n",
      "11925 licenses issued, 692 fines issued\n"
     ]
    },
    {
     "data": {
      "text/plain": [
       "(2017, 5.80293501048218)"
      ]
     },
     "execution_count": 233,
     "metadata": {},
     "output_type": "execute_result"
    }
   ],
   "source": [
    "fine_to_license_ratio(license_data=data, fine_data=data2, column_name1='licence_year', column_name2='disciplinary_year', year=2017)"
   ]
  },
  {
   "cell_type": "code",
   "execution_count": 191,
   "metadata": {},
   "outputs": [
    {
     "data": {
      "text/html": [
       "<div>\n",
       "<style>\n",
       "    .dataframe thead tr:only-child th {\n",
       "        text-align: right;\n",
       "    }\n",
       "\n",
       "    .dataframe thead th {\n",
       "        text-align: left;\n",
       "    }\n",
       "\n",
       "    .dataframe tbody tr th {\n",
       "        vertical-align: top;\n",
       "    }\n",
       "</style>\n",
       "<table border=\"1\" class=\"dataframe\">\n",
       "  <thead>\n",
       "    <tr style=\"text-align: right;\">\n",
       "      <th></th>\n",
       "      <th>city</th>\n",
       "      <th>combined_name</th>\n",
       "      <th>count</th>\n",
       "      <th>country</th>\n",
       "      <th>disciplinary_action</th>\n",
       "      <th>expiration_date</th>\n",
       "      <th>first_name</th>\n",
       "      <th>issue_date</th>\n",
       "      <th>last_name</th>\n",
       "      <th>license_no</th>\n",
       "      <th>license_status</th>\n",
       "      <th>license_type</th>\n",
       "      <th>licensee_url</th>\n",
       "      <th>licensee_url_description</th>\n",
       "      <th>profession_id</th>\n",
       "      <th>state</th>\n",
       "      <th>zip_code</th>\n",
       "      <th>licence_year</th>\n",
       "    </tr>\n",
       "  </thead>\n",
       "  <tbody>\n",
       "    <tr>\n",
       "      <th>241879</th>\n",
       "      <td>Mount Royal</td>\n",
       "      <td>Whiting, Toni Lyn</td>\n",
       "      <td>1</td>\n",
       "      <td>United States</td>\n",
       "      <td>N</td>\n",
       "      <td>2017-10-10T00:00:00.000</td>\n",
       "      <td>Toni</td>\n",
       "      <td>2177-08-01</td>\n",
       "      <td>Whiting</td>\n",
       "      <td>GN-0005269</td>\n",
       "      <td>Null and Void</td>\n",
       "      <td>Temporary Permit - GN</td>\n",
       "      <td>https://dpronline.delaware.gov/mylicense%20web...</td>\n",
       "      <td>NaN</td>\n",
       "      <td>Nursing</td>\n",
       "      <td>NJ</td>\n",
       "      <td>08061</td>\n",
       "      <td>2177.0</td>\n",
       "    </tr>\n",
       "  </tbody>\n",
       "</table>\n",
       "</div>"
      ],
      "text/plain": [
       "               city      combined_name  count        country  \\\n",
       "241879  Mount Royal  Whiting, Toni Lyn      1  United States   \n",
       "\n",
       "       disciplinary_action          expiration_date first_name issue_date  \\\n",
       "241879                   N  2017-10-10T00:00:00.000       Toni 2177-08-01   \n",
       "\n",
       "       last_name  license_no license_status           license_type  \\\n",
       "241879   Whiting  GN-0005269  Null and Void  Temporary Permit - GN   \n",
       "\n",
       "                                             licensee_url  \\\n",
       "241879  https://dpronline.delaware.gov/mylicense%20web...   \n",
       "\n",
       "        licensee_url_description profession_id state zip_code  licence_year  \n",
       "241879                       NaN       Nursing    NJ    08061        2177.0  "
      ]
     },
     "execution_count": 191,
     "metadata": {},
     "output_type": "execute_result"
    }
   ],
   "source": [
    "data[data['licence_year']==2177]"
   ]
  },
  {
   "cell_type": "markdown",
   "metadata": {},
   "source": [
    "Create function to group data by `profession_id` and then input that data into `fine_to_license_ratio` to compute the ratio of fines to licenses for that particular profession."
   ]
  },
  {
   "cell_type": "code",
   "execution_count": 248,
   "metadata": {
    "collapsed": true
   },
   "outputs": [],
   "source": [
    "def fine_to_license_ratio_profession(license_data, fine_data, profession, profession_column_license, profession_column_fine, column_name1=None, column_name2=None,year=None):\n",
    "    \"\"\"Get ratio of fines to licenses issued in a given year\n",
    "    \n",
    "    Parameters:\n",
    "    -----------\n",
    "    license_data: DataFrame\n",
    "        A subset of the Professional and Occupational Licensing dataframe by profession  \n",
    "    fine_data: DataFrame\n",
    "        A subset of the Disciplinary Actions dataframe by profession\n",
    "    profession: str\n",
    "        Profession to get out of your grouped data\n",
    "    profession_column_license: str\n",
    "        Column name of professions in Occupational Licensing dataframe\n",
    "    profession_column_fine: str\n",
    "        Column name of professions in Disciplinary Actions dataframe dataframe\n",
    "    year: int\n",
    "        Year to use to subset your data\n",
    "    column_name1: Series\n",
    "        Column containing years in license_data dataset\n",
    "    column_name2: Series\n",
    "        Column containing years in fine_data dataset\n",
    "    \n",
    "    Returns:\n",
    "    --------\n",
    "    tuple\n",
    "        A tuple with year as the first entry and ratio as the second\n",
    "        (year, ratio)\n",
    "    \"\"\"\n",
    "    \n",
    "    int(year)\n",
    "    str(column_name1)\n",
    "    str(column_name2)\n",
    "    \n",
    "    grouped_license_data = license_data.groupby(profession_column_license)\n",
    "    grouped_fine_data = fine_data.groupby(profession_column_fine)\n",
    "    license_profession_df = grouped_license_data.get_group(profession)\n",
    "    fine_profession_df = grouped_fine_data.get_group(profession)\n",
    "    return fine_to_license_ratio(license_data=license_profession_df, fine_data=fine_profession_df, column_name1=column_name1, column_name2=column_name2,year=year)"
   ]
  },
  {
   "cell_type": "code",
   "execution_count": 249,
   "metadata": {},
   "outputs": [
    {
     "name": "stdout",
     "output_type": "stream",
     "text": [
      "In the year 2000, 0.77% of license recipients were issued disciplinary action(s)\n",
      "1296 licenses issued, 10 fines issued\n"
     ]
    },
    {
     "data": {
      "text/plain": [
       "(2000, 0.7716049382716049)"
      ]
     },
     "execution_count": 249,
     "metadata": {},
     "output_type": "execute_result"
    }
   ],
   "source": [
    "fine_to_license_ratio_profession(license_data=data, fine_data=data2, profession='Nursing', profession_column_license='profession_id', profession_column_fine='profession_id', column_name1='licence_year', column_name2='disciplinary_year', year=2000)"
   ]
  },
  {
   "cell_type": "code",
   "execution_count": 236,
   "metadata": {},
   "outputs": [
    {
     "data": {
      "text/html": [
       "<div>\n",
       "<style>\n",
       "    .dataframe thead tr:only-child th {\n",
       "        text-align: right;\n",
       "    }\n",
       "\n",
       "    .dataframe thead th {\n",
       "        text-align: left;\n",
       "    }\n",
       "\n",
       "    .dataframe tbody tr th {\n",
       "        vertical-align: top;\n",
       "    }\n",
       "</style>\n",
       "<table border=\"1\" class=\"dataframe\">\n",
       "  <thead>\n",
       "    <tr style=\"text-align: right;\">\n",
       "      <th></th>\n",
       "      <th>combined_name</th>\n",
       "      <th>count</th>\n",
       "      <th>disp_end</th>\n",
       "      <th>disp_start</th>\n",
       "      <th>first_name</th>\n",
       "      <th>item_text</th>\n",
       "      <th>last_name</th>\n",
       "      <th>license_id_l</th>\n",
       "      <th>license_type</th>\n",
       "      <th>profession_id</th>\n",
       "      <th>disciplinary_year</th>\n",
       "    </tr>\n",
       "  </thead>\n",
       "  <tbody>\n",
       "    <tr>\n",
       "      <th>0</th>\n",
       "      <td>Jones, Matthew T.</td>\n",
       "      <td>1</td>\n",
       "      <td>NaN</td>\n",
       "      <td>2017-06-13</td>\n",
       "      <td>Matthew</td>\n",
       "      <td>Remedial Education</td>\n",
       "      <td>Jones</td>\n",
       "      <td>N1-0002718</td>\n",
       "      <td>Veterinarian</td>\n",
       "      <td>Veterinary Medicine</td>\n",
       "      <td>2017.0</td>\n",
       "    </tr>\n",
       "    <tr>\n",
       "      <th>1</th>\n",
       "      <td>Jones, Matthew T.</td>\n",
       "      <td>1</td>\n",
       "      <td>NaN</td>\n",
       "      <td>2017-06-13</td>\n",
       "      <td>Matthew</td>\n",
       "      <td>Probation</td>\n",
       "      <td>Jones</td>\n",
       "      <td>N1-0002718</td>\n",
       "      <td>Veterinarian</td>\n",
       "      <td>Veterinary Medicine</td>\n",
       "      <td>2017.0</td>\n",
       "    </tr>\n",
       "    <tr>\n",
       "      <th>2</th>\n",
       "      <td>Fortner, Elizabeth Buckley</td>\n",
       "      <td>1</td>\n",
       "      <td>NaN</td>\n",
       "      <td>2011-06-03</td>\n",
       "      <td>Elizabeth</td>\n",
       "      <td>Letter of Reprimand</td>\n",
       "      <td>Fortner</td>\n",
       "      <td>G2-0002068</td>\n",
       "      <td>Dental Hygienist</td>\n",
       "      <td>Dentistry</td>\n",
       "      <td>2011.0</td>\n",
       "    </tr>\n",
       "    <tr>\n",
       "      <th>3</th>\n",
       "      <td>Hynson, Lauren Marie</td>\n",
       "      <td>1</td>\n",
       "      <td>2017-07-14T00:00:00.000</td>\n",
       "      <td>2017-04-12</td>\n",
       "      <td>Lauren</td>\n",
       "      <td>Remedial Education</td>\n",
       "      <td>Hynson</td>\n",
       "      <td>L1-0041565</td>\n",
       "      <td>Registered Nurse</td>\n",
       "      <td>Nursing</td>\n",
       "      <td>2017.0</td>\n",
       "    </tr>\n",
       "    <tr>\n",
       "      <th>4</th>\n",
       "      <td>Hensley, Leslie A Doughty</td>\n",
       "      <td>1</td>\n",
       "      <td>2017-07-16T00:00:00.000</td>\n",
       "      <td>2013-07-16</td>\n",
       "      <td>Leslie</td>\n",
       "      <td>Probation</td>\n",
       "      <td>Hensley</td>\n",
       "      <td>L6-0A00209</td>\n",
       "      <td>Certified Registered Nurse Anesthetist</td>\n",
       "      <td>Nursing</td>\n",
       "      <td>2013.0</td>\n",
       "    </tr>\n",
       "  </tbody>\n",
       "</table>\n",
       "</div>"
      ],
      "text/plain": [
       "                combined_name  count                 disp_end disp_start  \\\n",
       "0           Jones, Matthew T.      1                      NaN 2017-06-13   \n",
       "1           Jones, Matthew T.      1                      NaN 2017-06-13   \n",
       "2  Fortner, Elizabeth Buckley      1                      NaN 2011-06-03   \n",
       "3        Hynson, Lauren Marie      1  2017-07-14T00:00:00.000 2017-04-12   \n",
       "4   Hensley, Leslie A Doughty      1  2017-07-16T00:00:00.000 2013-07-16   \n",
       "\n",
       "  first_name            item_text last_name license_id_l  \\\n",
       "0    Matthew   Remedial Education     Jones   N1-0002718   \n",
       "1    Matthew            Probation     Jones   N1-0002718   \n",
       "2  Elizabeth  Letter of Reprimand   Fortner   G2-0002068   \n",
       "3     Lauren   Remedial Education    Hynson   L1-0041565   \n",
       "4     Leslie            Probation   Hensley   L6-0A00209   \n",
       "\n",
       "                             license_type        profession_id  \\\n",
       "0                            Veterinarian  Veterinary Medicine   \n",
       "1                            Veterinarian  Veterinary Medicine   \n",
       "2                        Dental Hygienist            Dentistry   \n",
       "3                        Registered Nurse              Nursing   \n",
       "4  Certified Registered Nurse Anesthetist              Nursing   \n",
       "\n",
       "   disciplinary_year  \n",
       "0             2017.0  \n",
       "1             2017.0  \n",
       "2             2011.0  \n",
       "3             2017.0  \n",
       "4             2013.0  "
      ]
     },
     "execution_count": 236,
     "metadata": {},
     "output_type": "execute_result"
    }
   ],
   "source": [
    "data2.head()"
   ]
  },
  {
   "cell_type": "markdown",
   "metadata": {},
   "source": [
    "For nursing compare growth in number of licenses issued by year to growth of fines issued."
   ]
  },
  {
   "cell_type": "code",
   "execution_count": 250,
   "metadata": {},
   "outputs": [
    {
     "name": "stdout",
     "output_type": "stream",
     "text": [
      "In the year 2000, 0.77% of license recipients were issued disciplinary action(s)\n",
      "1296 licenses issued, 10 fines issued\n",
      "In the year 2001, 1.08% of license recipients were issued disciplinary action(s)\n",
      "1106 licenses issued, 12 fines issued\n",
      "In the year 2002, 0.76% of license recipients were issued disciplinary action(s)\n",
      "1172 licenses issued, 9 fines issued\n",
      "In the year 2003, 1.26% of license recipients were issued disciplinary action(s)\n",
      "1184 licenses issued, 15 fines issued\n",
      "In the year 2004, 2.01% of license recipients were issued disciplinary action(s)\n",
      "1935 licenses issued, 39 fines issued\n",
      "In the year 2005, 2.11% of license recipients were issued disciplinary action(s)\n",
      "2462 licenses issued, 52 fines issued\n",
      "In the year 2006, 1.20% of license recipients were issued disciplinary action(s)\n",
      "2578 licenses issued, 31 fines issued\n",
      "In the year 2007, 0.72% of license recipients were issued disciplinary action(s)\n",
      "2609 licenses issued, 19 fines issued\n",
      "In the year 2008, 0.87% of license recipients were issued disciplinary action(s)\n",
      "2626 licenses issued, 23 fines issued\n",
      "In the year 2009, 0.94% of license recipients were issued disciplinary action(s)\n",
      "2113 licenses issued, 20 fines issued\n",
      "In the year 2010, 2.60% of license recipients were issued disciplinary action(s)\n",
      "2147 licenses issued, 56 fines issued\n",
      "In the year 2011, 2.41% of license recipients were issued disciplinary action(s)\n",
      "2316 licenses issued, 56 fines issued\n",
      "In the year 2012, 4.77% of license recipients were issued disciplinary action(s)\n",
      "2344 licenses issued, 112 fines issued\n",
      "In the year 2013, 4.93% of license recipients were issued disciplinary action(s)\n",
      "2413 licenses issued, 119 fines issued\n",
      "In the year 2014, 3.94% of license recipients were issued disciplinary action(s)\n",
      "2614 licenses issued, 103 fines issued\n",
      "In the year 2015, 8.43% of license recipients were issued disciplinary action(s)\n",
      "2394 licenses issued, 202 fines issued\n",
      "In the year 2016, 6.50% of license recipients were issued disciplinary action(s)\n",
      "2246 licenses issued, 146 fines issued\n",
      "In the year 2017, 5.97% of license recipients were issued disciplinary action(s)\n",
      "2492 licenses issued, 149 fines issued\n"
     ]
    }
   ],
   "source": [
    "import numpy as np\n",
    "for date in np.arange(2000,2018):\n",
    "    fine_to_license_ratio_profession(license_data=data, fine_data=data2, profession='Nursing', profession_column_license='profession_id', profession_column_fine='profession_id', column_name1='licence_year', column_name2='disciplinary_year', year=date)"
   ]
  },
  {
   "cell_type": "code",
   "execution_count": null,
   "metadata": {
    "collapsed": true
   },
   "outputs": [],
   "source": []
  }
 ],
 "metadata": {
  "kernelspec": {
   "display_name": "Python 3",
   "language": "python",
   "name": "python3"
  },
  "language_info": {
   "codemirror_mode": {
    "name": "ipython",
    "version": 3
   },
   "file_extension": ".py",
   "mimetype": "text/x-python",
   "name": "python",
   "nbconvert_exporter": "python",
   "pygments_lexer": "ipython3",
   "version": "3.6.3"
  }
 },
 "nbformat": 4,
 "nbformat_minor": 2
}
