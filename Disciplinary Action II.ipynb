{
 "cells": [
  {
   "cell_type": "markdown",
   "metadata": {},
   "source": [
    "#  Professional and Occupational Licensing\n",
    "\n",
    "This notebook is a continuation of exploratory analysis conducted on the [Disciplinary Actions for Professional and Occupational Licensees dataset for the state of delaware](https://github.com/seyeadekanye/Disciplinary-Action-ODD/blob/master/Disciplinary%20Action.ipynb). This dataset contains \"This dataset contains information about individuals who have applied for, currently hold or previously held a professional or occupational license issued by the State of Delaware\" (for certain industries).\n",
    "\n",
    "### We hope to answer the follwong questions from this dataset:\n",
    "* For a given year and given profession, what is the ratio of licenses issued to fines given?\n",
    "* \n",
    "* \n",
    "\n",
    "We will be using the pandas module for the data manipulation, while using the matplotlib and seaborn packages for our visualizations.\n",
    "\n",
    "### Necessary data  set(s)\n",
    "[Disciplinary Actions for Professional and Occupational Licensees](https://data.delaware.gov/Licenses-and-Certifications/Disciplinary-Actions-for-Professional-and-Occupati/dz6p-akeq)\n",
    "\n",
    "[Professional and Occupational Licensing](https://data.delaware.gov/Licenses-and-Certifications/Professional-and-Occupational-Licensing/pjnv-eaih)\n",
    "\n",
    "\n",
    "\n",
    "\n",
    "\n",
    "*Written on January 29, 2018 by Seye Adekanye*"
   ]
  },
  {
   "cell_type": "code",
   "execution_count": 1,
   "metadata": {
    "collapsed": true
   },
   "outputs": [],
   "source": [
    "import pandas as pd\n",
    "import matplotlib.pyplot as plt\n",
    "import seaborn as sns\n",
    "\n",
    "%matplotlib notebook"
   ]
  },
  {
   "cell_type": "code",
   "execution_count": 2,
   "metadata": {
    "collapsed": true
   },
   "outputs": [],
   "source": [
    "url_licenses = \"https://data.delaware.gov/resource/dhqa-h9is.csv?$limit=300000\"\n",
    "data = pd.read_csv(url_licenses, low_memory=False)"
   ]
  },
  {
   "cell_type": "code",
   "execution_count": 3,
   "metadata": {
    "collapsed": true
   },
   "outputs": [],
   "source": [
    "url_fines = \"https://data.delaware.gov/resource/wqvn-hw3m.csv?$limit=6000\"\n",
    "data2 = pd.read_csv(url_fines, low_memory=False)"
   ]
  },
  {
   "cell_type": "code",
   "execution_count": 4,
   "metadata": {},
   "outputs": [
    {
     "data": {
      "text/html": [
       "<div>\n",
       "<style>\n",
       "    .dataframe thead tr:only-child th {\n",
       "        text-align: right;\n",
       "    }\n",
       "\n",
       "    .dataframe thead th {\n",
       "        text-align: left;\n",
       "    }\n",
       "\n",
       "    .dataframe tbody tr th {\n",
       "        vertical-align: top;\n",
       "    }\n",
       "</style>\n",
       "<table border=\"1\" class=\"dataframe\">\n",
       "  <thead>\n",
       "    <tr style=\"text-align: right;\">\n",
       "      <th></th>\n",
       "      <th>city</th>\n",
       "      <th>combined_name</th>\n",
       "      <th>count</th>\n",
       "      <th>country</th>\n",
       "      <th>disciplinary_action</th>\n",
       "      <th>expiration_date</th>\n",
       "      <th>first_name</th>\n",
       "      <th>issue_date</th>\n",
       "      <th>last_name</th>\n",
       "      <th>license_no</th>\n",
       "      <th>license_status</th>\n",
       "      <th>license_type</th>\n",
       "      <th>licensee_url</th>\n",
       "      <th>licensee_url_description</th>\n",
       "      <th>profession_id</th>\n",
       "      <th>state</th>\n",
       "      <th>zip_code</th>\n",
       "    </tr>\n",
       "  </thead>\n",
       "  <tbody>\n",
       "    <tr>\n",
       "      <th>0</th>\n",
       "      <td>Philadelphia</td>\n",
       "      <td>Paulson, Melyssa M.</td>\n",
       "      <td>1</td>\n",
       "      <td>United States</td>\n",
       "      <td>N</td>\n",
       "      <td>2003-03-31T00:00:00.000</td>\n",
       "      <td>Melyssa</td>\n",
       "      <td>2001-08-09T14:49:00.000</td>\n",
       "      <td>Paulson</td>\n",
       "      <td>C7-0002313</td>\n",
       "      <td>Expired-Must Reapply</td>\n",
       "      <td>ACGME Training</td>\n",
       "      <td>https://dpronline.delaware.gov/mylicense%20web...</td>\n",
       "      <td>NaN</td>\n",
       "      <td>Medical Practice</td>\n",
       "      <td>PA</td>\n",
       "      <td>19107</td>\n",
       "    </tr>\n",
       "    <tr>\n",
       "      <th>1</th>\n",
       "      <td>Wilmington</td>\n",
       "      <td>Dholakia, Madhun</td>\n",
       "      <td>1</td>\n",
       "      <td>United States</td>\n",
       "      <td>N</td>\n",
       "      <td>2005-03-31T00:00:00.000</td>\n",
       "      <td>Madhun</td>\n",
       "      <td>2004-07-26T00:00:00.000</td>\n",
       "      <td>Dholakia</td>\n",
       "      <td>C7-0003059</td>\n",
       "      <td>Expired-Must Reapply</td>\n",
       "      <td>ACGME Training</td>\n",
       "      <td>https://dpronline.delaware.gov/mylicense%20web...</td>\n",
       "      <td>NaN</td>\n",
       "      <td>Medical Practice</td>\n",
       "      <td>DE</td>\n",
       "      <td>19899</td>\n",
       "    </tr>\n",
       "    <tr>\n",
       "      <th>2</th>\n",
       "      <td>Collegedale</td>\n",
       "      <td>Sims, Naomi Reneau</td>\n",
       "      <td>1</td>\n",
       "      <td>United States</td>\n",
       "      <td>N</td>\n",
       "      <td>2001-09-30T00:00:00.000</td>\n",
       "      <td>Naomi</td>\n",
       "      <td>2001-01-17T00:00:00.000</td>\n",
       "      <td>Sims</td>\n",
       "      <td>L1-0029470</td>\n",
       "      <td>Lapsed-Must Reinstate</td>\n",
       "      <td>Registered Nurse</td>\n",
       "      <td>https://dpronline.delaware.gov/mylicense%20web...</td>\n",
       "      <td>NaN</td>\n",
       "      <td>Nursing</td>\n",
       "      <td>TN</td>\n",
       "      <td>37315</td>\n",
       "    </tr>\n",
       "    <tr>\n",
       "      <th>3</th>\n",
       "      <td>Newark</td>\n",
       "      <td>Macklin, Kevin, Sr.</td>\n",
       "      <td>1</td>\n",
       "      <td>United States</td>\n",
       "      <td>N</td>\n",
       "      <td>2010-03-31T00:00:00.000</td>\n",
       "      <td>Kevin</td>\n",
       "      <td>2005-10-14T00:00:00.000</td>\n",
       "      <td>Macklin</td>\n",
       "      <td>D1-0001215</td>\n",
       "      <td>Null and Void</td>\n",
       "      <td>Barber</td>\n",
       "      <td>https://dpronline.delaware.gov/mylicense%20web...</td>\n",
       "      <td>NaN</td>\n",
       "      <td>Cosmetology and Barbering</td>\n",
       "      <td>DE</td>\n",
       "      <td>19711</td>\n",
       "    </tr>\n",
       "    <tr>\n",
       "      <th>4</th>\n",
       "      <td>Pasadena</td>\n",
       "      <td>Miller, Ronald J</td>\n",
       "      <td>1</td>\n",
       "      <td>United States</td>\n",
       "      <td>N</td>\n",
       "      <td>2006-06-30T00:00:00.000</td>\n",
       "      <td>Ronald</td>\n",
       "      <td>2005-03-10T00:00:00.000</td>\n",
       "      <td>Miller</td>\n",
       "      <td>T1-0005253</td>\n",
       "      <td>Expired-Must Reapply</td>\n",
       "      <td>Master Electrician</td>\n",
       "      <td>https://dpronline.delaware.gov/mylicense%20web...</td>\n",
       "      <td>NaN</td>\n",
       "      <td>Electrical Examiners</td>\n",
       "      <td>MD</td>\n",
       "      <td>21122</td>\n",
       "    </tr>\n",
       "  </tbody>\n",
       "</table>\n",
       "</div>"
      ],
      "text/plain": [
       "           city        combined_name  count        country  \\\n",
       "0  Philadelphia  Paulson, Melyssa M.      1  United States   \n",
       "1    Wilmington     Dholakia, Madhun      1  United States   \n",
       "2   Collegedale   Sims, Naomi Reneau      1  United States   \n",
       "3        Newark  Macklin, Kevin, Sr.      1  United States   \n",
       "4      Pasadena     Miller, Ronald J      1  United States   \n",
       "\n",
       "  disciplinary_action          expiration_date first_name  \\\n",
       "0                   N  2003-03-31T00:00:00.000    Melyssa   \n",
       "1                   N  2005-03-31T00:00:00.000     Madhun   \n",
       "2                   N  2001-09-30T00:00:00.000      Naomi   \n",
       "3                   N  2010-03-31T00:00:00.000      Kevin   \n",
       "4                   N  2006-06-30T00:00:00.000     Ronald   \n",
       "\n",
       "                issue_date last_name  license_no         license_status  \\\n",
       "0  2001-08-09T14:49:00.000   Paulson  C7-0002313   Expired-Must Reapply   \n",
       "1  2004-07-26T00:00:00.000  Dholakia  C7-0003059   Expired-Must Reapply   \n",
       "2  2001-01-17T00:00:00.000      Sims  L1-0029470  Lapsed-Must Reinstate   \n",
       "3  2005-10-14T00:00:00.000   Macklin  D1-0001215          Null and Void   \n",
       "4  2005-03-10T00:00:00.000    Miller  T1-0005253   Expired-Must Reapply   \n",
       "\n",
       "         license_type                                       licensee_url  \\\n",
       "0      ACGME Training  https://dpronline.delaware.gov/mylicense%20web...   \n",
       "1      ACGME Training  https://dpronline.delaware.gov/mylicense%20web...   \n",
       "2    Registered Nurse  https://dpronline.delaware.gov/mylicense%20web...   \n",
       "3              Barber  https://dpronline.delaware.gov/mylicense%20web...   \n",
       "4  Master Electrician  https://dpronline.delaware.gov/mylicense%20web...   \n",
       "\n",
       "   licensee_url_description              profession_id state zip_code  \n",
       "0                       NaN           Medical Practice    PA    19107  \n",
       "1                       NaN           Medical Practice    DE    19899  \n",
       "2                       NaN                    Nursing    TN    37315  \n",
       "3                       NaN  Cosmetology and Barbering    DE    19711  \n",
       "4                       NaN       Electrical Examiners    MD    21122  "
      ]
     },
     "execution_count": 4,
     "metadata": {},
     "output_type": "execute_result"
    }
   ],
   "source": [
    "data.head()"
   ]
  },
  {
   "cell_type": "code",
   "execution_count": 5,
   "metadata": {},
   "outputs": [
    {
     "data": {
      "text/plain": [
       "(251665, 17)"
      ]
     },
     "execution_count": 5,
     "metadata": {},
     "output_type": "execute_result"
    }
   ],
   "source": [
    "data.shape"
   ]
  },
  {
   "cell_type": "code",
   "execution_count": 6,
   "metadata": {},
   "outputs": [
    {
     "data": {
      "text/plain": [
       "array(['Medical Practice', 'Nursing', 'Cosmetology and Barbering',\n",
       "       'Electrical Examiners', 'Real Estate', 'Charitable Gaming',\n",
       "       'Real Estate Appraisers', 'Controlled Substances', 'Geologists',\n",
       "       'Accountancy', 'Architecture', 'Physical Therapy/Athletic Trg',\n",
       "       'Social Work Examiners', 'Pharmacy', 'Landscape Architecture',\n",
       "       'Massage Bodywork', 'Speech and Hearing',\n",
       "       'Nursing Home Administrators', 'Veterinary Medicine', 'Psychology',\n",
       "       'Chiropractic', 'Plumbing/HVACR', 'Funeral Services', 'Dentistry',\n",
       "       'Combative Sports', 'Occupational Therapy', 'Optometry',\n",
       "       'Mental Health', 'Dietitians/Nutritionists', 'Home Inspectors',\n",
       "       'Deadly Weapons Dealers', 'Land Surveyors', 'Pilots',\n",
       "       'Manufactured Home Installation', 'Podiatry', '<any>',\n",
       "       'Adult Entertainment'], dtype=object)"
      ]
     },
     "execution_count": 6,
     "metadata": {},
     "output_type": "execute_result"
    }
   ],
   "source": [
    "data['profession_id'].unique()"
   ]
  },
  {
   "cell_type": "code",
   "execution_count": 7,
   "metadata": {},
   "outputs": [
    {
     "data": {
      "text/html": [
       "<div>\n",
       "<style>\n",
       "    .dataframe thead tr:only-child th {\n",
       "        text-align: right;\n",
       "    }\n",
       "\n",
       "    .dataframe thead th {\n",
       "        text-align: left;\n",
       "    }\n",
       "\n",
       "    .dataframe tbody tr th {\n",
       "        vertical-align: top;\n",
       "    }\n",
       "</style>\n",
       "<table border=\"1\" class=\"dataframe\">\n",
       "  <thead>\n",
       "    <tr style=\"text-align: right;\">\n",
       "      <th></th>\n",
       "      <th>combined_name</th>\n",
       "      <th>count</th>\n",
       "      <th>disp_end</th>\n",
       "      <th>disp_start</th>\n",
       "      <th>first_name</th>\n",
       "      <th>item_text</th>\n",
       "      <th>last_name</th>\n",
       "      <th>license_id_l</th>\n",
       "      <th>license_type</th>\n",
       "      <th>profession_id</th>\n",
       "    </tr>\n",
       "  </thead>\n",
       "  <tbody>\n",
       "    <tr>\n",
       "      <th>0</th>\n",
       "      <td>Jones, Matthew T.</td>\n",
       "      <td>1</td>\n",
       "      <td>NaN</td>\n",
       "      <td>2017-06-13T00:00:00.000</td>\n",
       "      <td>Matthew</td>\n",
       "      <td>Remedial Education</td>\n",
       "      <td>Jones</td>\n",
       "      <td>N1-0002718</td>\n",
       "      <td>Veterinarian</td>\n",
       "      <td>Veterinary Medicine</td>\n",
       "    </tr>\n",
       "    <tr>\n",
       "      <th>1</th>\n",
       "      <td>Jones, Matthew T.</td>\n",
       "      <td>1</td>\n",
       "      <td>NaN</td>\n",
       "      <td>2017-06-13T00:00:00.000</td>\n",
       "      <td>Matthew</td>\n",
       "      <td>Probation</td>\n",
       "      <td>Jones</td>\n",
       "      <td>N1-0002718</td>\n",
       "      <td>Veterinarian</td>\n",
       "      <td>Veterinary Medicine</td>\n",
       "    </tr>\n",
       "    <tr>\n",
       "      <th>2</th>\n",
       "      <td>Fortner, Elizabeth Buckley</td>\n",
       "      <td>1</td>\n",
       "      <td>NaN</td>\n",
       "      <td>2011-06-03T00:00:00.000</td>\n",
       "      <td>Elizabeth</td>\n",
       "      <td>Letter of Reprimand</td>\n",
       "      <td>Fortner</td>\n",
       "      <td>G2-0002068</td>\n",
       "      <td>Dental Hygienist</td>\n",
       "      <td>Dentistry</td>\n",
       "    </tr>\n",
       "    <tr>\n",
       "      <th>3</th>\n",
       "      <td>Hynson, Lauren Marie</td>\n",
       "      <td>1</td>\n",
       "      <td>2017-07-14T00:00:00.000</td>\n",
       "      <td>2017-04-12T00:00:00.000</td>\n",
       "      <td>Lauren</td>\n",
       "      <td>Remedial Education</td>\n",
       "      <td>Hynson</td>\n",
       "      <td>L1-0041565</td>\n",
       "      <td>Registered Nurse</td>\n",
       "      <td>Nursing</td>\n",
       "    </tr>\n",
       "    <tr>\n",
       "      <th>4</th>\n",
       "      <td>Hensley, Leslie A Doughty</td>\n",
       "      <td>1</td>\n",
       "      <td>2017-07-16T00:00:00.000</td>\n",
       "      <td>2013-07-16T00:00:00.000</td>\n",
       "      <td>Leslie</td>\n",
       "      <td>Probation</td>\n",
       "      <td>Hensley</td>\n",
       "      <td>L6-0A00209</td>\n",
       "      <td>Certified Registered Nurse Anesthetist</td>\n",
       "      <td>Nursing</td>\n",
       "    </tr>\n",
       "  </tbody>\n",
       "</table>\n",
       "</div>"
      ],
      "text/plain": [
       "                combined_name  count                 disp_end  \\\n",
       "0           Jones, Matthew T.      1                      NaN   \n",
       "1           Jones, Matthew T.      1                      NaN   \n",
       "2  Fortner, Elizabeth Buckley      1                      NaN   \n",
       "3        Hynson, Lauren Marie      1  2017-07-14T00:00:00.000   \n",
       "4   Hensley, Leslie A Doughty      1  2017-07-16T00:00:00.000   \n",
       "\n",
       "                disp_start first_name            item_text last_name  \\\n",
       "0  2017-06-13T00:00:00.000    Matthew   Remedial Education     Jones   \n",
       "1  2017-06-13T00:00:00.000    Matthew            Probation     Jones   \n",
       "2  2011-06-03T00:00:00.000  Elizabeth  Letter of Reprimand   Fortner   \n",
       "3  2017-04-12T00:00:00.000     Lauren   Remedial Education    Hynson   \n",
       "4  2013-07-16T00:00:00.000     Leslie            Probation   Hensley   \n",
       "\n",
       "  license_id_l                            license_type        profession_id  \n",
       "0   N1-0002718                            Veterinarian  Veterinary Medicine  \n",
       "1   N1-0002718                            Veterinarian  Veterinary Medicine  \n",
       "2   G2-0002068                        Dental Hygienist            Dentistry  \n",
       "3   L1-0041565                        Registered Nurse              Nursing  \n",
       "4   L6-0A00209  Certified Registered Nurse Anesthetist              Nursing  "
      ]
     },
     "execution_count": 7,
     "metadata": {},
     "output_type": "execute_result"
    }
   ],
   "source": [
    "data2.head()"
   ]
  },
  {
   "cell_type": "code",
   "execution_count": 8,
   "metadata": {},
   "outputs": [
    {
     "data": {
      "text/plain": [
       "(5078, 10)"
      ]
     },
     "execution_count": 8,
     "metadata": {},
     "output_type": "execute_result"
    }
   ],
   "source": [
    "data2.shape"
   ]
  },
  {
   "cell_type": "markdown",
   "metadata": {},
   "source": [
    "Which professions are common to both datasets?"
   ]
  },
  {
   "cell_type": "code",
   "execution_count": 9,
   "metadata": {},
   "outputs": [
    {
     "data": {
      "text/plain": [
       "['Psychology',\n",
       " 'Cosmetology and Barbering',\n",
       " 'Controlled Substances',\n",
       " 'Land Surveyors',\n",
       " 'Massage Bodywork',\n",
       " 'Pharmacy',\n",
       " 'Architecture',\n",
       " 'Speech and Hearing',\n",
       " 'Medical Practice',\n",
       " 'Home Inspectors',\n",
       " 'Plumbing/HVACR',\n",
       " 'Optometry',\n",
       " 'Landscape Architecture',\n",
       " 'Veterinary Medicine',\n",
       " 'Occupational Therapy',\n",
       " 'Real Estate',\n",
       " 'Social Work Examiners',\n",
       " 'Nursing Home Administrators',\n",
       " 'Accountancy',\n",
       " 'Combative Sports',\n",
       " 'Physical Therapy/Athletic Trg',\n",
       " 'Chiropractic',\n",
       " 'Electrical Examiners',\n",
       " 'Pilots',\n",
       " 'Charitable Gaming',\n",
       " 'Adult Entertainment',\n",
       " 'Real Estate Appraisers',\n",
       " 'Mental Health',\n",
       " 'Podiatry',\n",
       " 'Geologists',\n",
       " 'Manufactured Home Installation',\n",
       " 'Nursing',\n",
       " 'Deadly Weapons Dealers',\n",
       " 'Funeral Services',\n",
       " 'Dentistry']"
      ]
     },
     "execution_count": 9,
     "metadata": {},
     "output_type": "execute_result"
    }
   ],
   "source": [
    "A = data['profession_id'].unique()\n",
    "B = data2['profession_id'].unique()\n",
    "list(set(A).intersection(set(B)))"
   ]
  },
  {
   "cell_type": "markdown",
   "metadata": {},
   "source": [
    "Drop all rows from `data` dataset where `profession_id` is not in `data2` dataset"
   ]
  },
  {
   "cell_type": "code",
   "execution_count": 10,
   "metadata": {},
   "outputs": [
    {
     "data": {
      "text/plain": [
       "['<any>', 'Dietitians/Nutritionists']"
      ]
     },
     "execution_count": 10,
     "metadata": {},
     "output_type": "execute_result"
    }
   ],
   "source": [
    "list(set(A).difference(set(B)))"
   ]
  },
  {
   "cell_type": "code",
   "execution_count": 11,
   "metadata": {
    "collapsed": true,
    "scrolled": true
   },
   "outputs": [],
   "source": [
    "data = data[data.profession_id != '<any>']\n",
    "data = data[data.profession_id != 'Dietitians/Nutritionists']"
   ]
  },
  {
   "cell_type": "code",
   "execution_count": 12,
   "metadata": {
    "collapsed": true
   },
   "outputs": [],
   "source": [
    "data.reset_index(drop=True);"
   ]
  },
  {
   "cell_type": "code",
   "execution_count": 13,
   "metadata": {},
   "outputs": [
    {
     "data": {
      "text/plain": [
       "(251072, 17)"
      ]
     },
     "execution_count": 13,
     "metadata": {},
     "output_type": "execute_result"
    }
   ],
   "source": [
    "data.shape"
   ]
  },
  {
   "cell_type": "code",
   "execution_count": 14,
   "metadata": {},
   "outputs": [
    {
     "data": {
      "text/plain": [
       "22703"
      ]
     },
     "execution_count": 14,
     "metadata": {},
     "output_type": "execute_result"
    }
   ],
   "source": [
    "len(data[data['profession_id']== 'Medical Practice'])"
   ]
  },
  {
   "cell_type": "code",
   "execution_count": 15,
   "metadata": {
    "collapsed": true
   },
   "outputs": [],
   "source": [
    "count = {}\n",
    "for p in data['profession_id']:\n",
    "    try:\n",
    "        count[p] += 1\n",
    "    except KeyError:\n",
    "        count[p] = 1"
   ]
  },
  {
   "cell_type": "code",
   "execution_count": 16,
   "metadata": {},
   "outputs": [
    {
     "data": {
      "text/plain": [
       "{'Accountancy': 14328,\n",
       " 'Adult Entertainment': 5,\n",
       " 'Architecture': 4079,\n",
       " 'Charitable Gaming': 24958,\n",
       " 'Chiropractic': 746,\n",
       " 'Combative Sports': 385,\n",
       " 'Controlled Substances': 10966,\n",
       " 'Cosmetology and Barbering': 19035,\n",
       " 'Deadly Weapons Dealers': 366,\n",
       " 'Dentistry': 2455,\n",
       " 'Electrical Examiners': 18067,\n",
       " 'Funeral Services': 560,\n",
       " 'Geologists': 949,\n",
       " 'Home Inspectors': 168,\n",
       " 'Land Surveyors': 557,\n",
       " 'Landscape Architecture': 596,\n",
       " 'Manufactured Home Installation': 143,\n",
       " 'Massage Bodywork': 4715,\n",
       " 'Medical Practice': 22703,\n",
       " 'Mental Health': 1087,\n",
       " 'Nursing': 65272,\n",
       " 'Nursing Home Administrators': 658,\n",
       " 'Occupational Therapy': 1870,\n",
       " 'Optometry': 424,\n",
       " 'Pharmacy': 9259,\n",
       " 'Physical Therapy/Athletic Trg': 5941,\n",
       " 'Pilots': 180,\n",
       " 'Plumbing/HVACR': 3262,\n",
       " 'Podiatry': 202,\n",
       " 'Psychology': 1189,\n",
       " 'Real Estate': 26507,\n",
       " 'Real Estate Appraisers': 3310,\n",
       " 'Social Work Examiners': 1501,\n",
       " 'Speech and Hearing': 2304,\n",
       " 'Veterinary Medicine': 2325}"
      ]
     },
     "execution_count": 16,
     "metadata": {},
     "output_type": "execute_result"
    }
   ],
   "source": [
    "count"
   ]
  },
  {
   "cell_type": "markdown",
   "metadata": {},
   "source": [
    "Next we deal with the strange date formats. We will be converting these columns to datetime objects."
   ]
  },
  {
   "cell_type": "code",
   "execution_count": 17,
   "metadata": {
    "collapsed": true
   },
   "outputs": [],
   "source": [
    "from datetime import datetime\n",
    "disciplinary_start_date = []\n",
    "for date in data2['disp_start']:\n",
    "    try:\n",
    "        date = date[0:10]\n",
    "        disciplinary_start_date.append(datetime.strptime(str(date),'%Y-%m-%d'))\n",
    "    except:\n",
    "        disciplinary_start_date.append(date) \n",
    "data2['disp_start'] = disciplinary_start_date\n",
    "        \n",
    "        \n",
    "license_issue_date = []\n",
    "for date in data['issue_date']:\n",
    "    try:\n",
    "        date = date[0:10]\n",
    "        license_issue_date.append(datetime.strptime(str(date),'%Y-%m-%d'))\n",
    "    except:\n",
    "        license_issue_date.append(date)\n",
    "data['issue_date'] = license_issue_date"
   ]
  },
  {
   "cell_type": "code",
   "execution_count": 18,
   "metadata": {
    "collapsed": true
   },
   "outputs": [],
   "source": [
    "license_year = []\n",
    "err = []\n",
    "for date in data['issue_date']:\n",
    "    try:\n",
    "        license_year.append(date.year)\n",
    "    except error as e:\n",
    "        err.append(e)\n",
    "        license_year.append(date)\n",
    "data['licence_year'] = license_year"
   ]
  },
  {
   "cell_type": "code",
   "execution_count": 19,
   "metadata": {
    "collapsed": true
   },
   "outputs": [],
   "source": [
    "disciplinary_year = []\n",
    "err = []\n",
    "for date in data2['disp_start']:\n",
    "    try:\n",
    "        disciplinary_year.append(date.year)\n",
    "    except error as e:\n",
    "        err.append(e)\n",
    "        disciplinary_year.append(date)\n",
    "data2['disciplinary_year'] = disciplinary_year"
   ]
  },
  {
   "cell_type": "markdown",
   "metadata": {},
   "source": [
    "A function that tells us in a given year, the ratio of fines recieved to total number of licenses issued"
   ]
  },
  {
   "cell_type": "code",
   "execution_count": 44,
   "metadata": {
    "collapsed": true
   },
   "outputs": [],
   "source": [
    "def fine_to_license_ratio(license_data, fine_data, column_name1=None, column_name2=None,year=None):\n",
    "    \"\"\"Get ratio of fines to licenses issued in a given year\n",
    "    \n",
    "    Parameters:\n",
    "    -----------\n",
    "    license_data: DataFrame\n",
    "        Any subset of the Professional and Occupational Licensing dataframe   \n",
    "    fine_data: DataFrame\n",
    "        Any subset of the Disciplinary Actions dataframe \n",
    "    year: int\n",
    "        Year to use to subset your data\n",
    "    column_name1: Series\n",
    "        Column containing years in license_data dataset\n",
    "    column_name2: Series\n",
    "        Column containing years in fine_data dataset\n",
    "    \n",
    "    Returns:\n",
    "    --------\n",
    "    tuple\n",
    "        A tuple with year as the first entry and ratio as the second\n",
    "        (year, ratio)\n",
    "    \"\"\"\n",
    "    \n",
    "    int(year)\n",
    "    str(column_name1)\n",
    "    str(column_name2)\n",
    "    \n",
    "    if year not in license_data[column_name1].unique() or year not in fine_data[column_name2].unique():\n",
    "        raise Exception(str(year) + \" not a valid year for this dataset\" \n",
    "                        + \"\\n----------------------------------------\")\n",
    "    else:\n",
    "        license_data = license_data[license_data[column_name1]==year]\n",
    "        fine_data = fine_data[fine_data[column_name2]==year]\n",
    "    try:\n",
    "        ratio = len(fine_data)/len(license_data) * 100\n",
    "        print(\"In the year \" + str(year) + \", \" + str(ratio)[:4] \n",
    "              +\"% of license recipients were issued disciplinary action(s)\" \n",
    "              + \"\\n\" +str(len(license_data)) + \" licenses issued, \" + str(len(fine_data)) + \" fines issued\"\n",
    "            + \"\\n----------------------------------------\")\n",
    "        return year, ratio\n",
    "    except ZeroDivisionError:\n",
    "        print(\"Hmmm...It looks like there is are no licenses yet for the year \" + str(year))\n",
    "    "
   ]
  },
  {
   "cell_type": "code",
   "execution_count": 25,
   "metadata": {},
   "outputs": [
    {
     "name": "stdout",
     "output_type": "stream",
     "text": [
      "In the year 2017, 5.80% of license recipients were issued disciplinary action(s)\n",
      "11925 licenses issued, 692 fines issued\n",
      "----------------------------------------\n"
     ]
    },
    {
     "data": {
      "text/plain": [
       "(2017, 5.80293501048218)"
      ]
     },
     "execution_count": 25,
     "metadata": {},
     "output_type": "execute_result"
    }
   ],
   "source": [
    "fine_to_license_ratio(license_data=data, fine_data=data2, column_name1='licence_year', \n",
    "                      column_name2='disciplinary_year', year=2017)"
   ]
  },
  {
   "cell_type": "code",
   "execution_count": 26,
   "metadata": {},
   "outputs": [
    {
     "data": {
      "text/html": [
       "<div>\n",
       "<style>\n",
       "    .dataframe thead tr:only-child th {\n",
       "        text-align: right;\n",
       "    }\n",
       "\n",
       "    .dataframe thead th {\n",
       "        text-align: left;\n",
       "    }\n",
       "\n",
       "    .dataframe tbody tr th {\n",
       "        vertical-align: top;\n",
       "    }\n",
       "</style>\n",
       "<table border=\"1\" class=\"dataframe\">\n",
       "  <thead>\n",
       "    <tr style=\"text-align: right;\">\n",
       "      <th></th>\n",
       "      <th>city</th>\n",
       "      <th>combined_name</th>\n",
       "      <th>count</th>\n",
       "      <th>country</th>\n",
       "      <th>disciplinary_action</th>\n",
       "      <th>expiration_date</th>\n",
       "      <th>first_name</th>\n",
       "      <th>issue_date</th>\n",
       "      <th>last_name</th>\n",
       "      <th>license_no</th>\n",
       "      <th>license_status</th>\n",
       "      <th>license_type</th>\n",
       "      <th>licensee_url</th>\n",
       "      <th>licensee_url_description</th>\n",
       "      <th>profession_id</th>\n",
       "      <th>state</th>\n",
       "      <th>zip_code</th>\n",
       "      <th>licence_year</th>\n",
       "    </tr>\n",
       "  </thead>\n",
       "  <tbody>\n",
       "    <tr>\n",
       "      <th>241959</th>\n",
       "      <td>Mount Royal</td>\n",
       "      <td>Whiting, Toni Lyn</td>\n",
       "      <td>1</td>\n",
       "      <td>United States</td>\n",
       "      <td>N</td>\n",
       "      <td>2017-10-10T00:00:00.000</td>\n",
       "      <td>Toni</td>\n",
       "      <td>2177-08-01</td>\n",
       "      <td>Whiting</td>\n",
       "      <td>GN-0005269</td>\n",
       "      <td>Null and Void</td>\n",
       "      <td>Temporary Permit - GN</td>\n",
       "      <td>https://dpronline.delaware.gov/mylicense%20web...</td>\n",
       "      <td>NaN</td>\n",
       "      <td>Nursing</td>\n",
       "      <td>NJ</td>\n",
       "      <td>08061</td>\n",
       "      <td>2177.0</td>\n",
       "    </tr>\n",
       "  </tbody>\n",
       "</table>\n",
       "</div>"
      ],
      "text/plain": [
       "               city      combined_name  count        country  \\\n",
       "241959  Mount Royal  Whiting, Toni Lyn      1  United States   \n",
       "\n",
       "       disciplinary_action          expiration_date first_name issue_date  \\\n",
       "241959                   N  2017-10-10T00:00:00.000       Toni 2177-08-01   \n",
       "\n",
       "       last_name  license_no license_status           license_type  \\\n",
       "241959   Whiting  GN-0005269  Null and Void  Temporary Permit - GN   \n",
       "\n",
       "                                             licensee_url  \\\n",
       "241959  https://dpronline.delaware.gov/mylicense%20web...   \n",
       "\n",
       "        licensee_url_description profession_id state zip_code  licence_year  \n",
       "241959                       NaN       Nursing    NJ    08061        2177.0  "
      ]
     },
     "execution_count": 26,
     "metadata": {},
     "output_type": "execute_result"
    }
   ],
   "source": [
    "data[data['licence_year']==2177]"
   ]
  },
  {
   "cell_type": "markdown",
   "metadata": {},
   "source": [
    "Create function to group data by `profession_id` and then input that data into `fine_to_license_ratio` to compute the ratio of fines to licenses for that particular profession."
   ]
  },
  {
   "cell_type": "code",
   "execution_count": 41,
   "metadata": {},
   "outputs": [],
   "source": [
    "def fine_to_license_ratio_profession(license_data, fine_data, profession, \n",
    "                                     profession_column_license, profession_column_fine, \n",
    "                                     column_name1=None, column_name2=None,year=None):\n",
    "    \"\"\"Get ratio of fines to licenses issued in a given year\n",
    "    \n",
    "    Parameters:\n",
    "    -----------\n",
    "    license_data: DataFrame\n",
    "        A subset of the Professional and Occupational Licensing dataframe by profession  \n",
    "    fine_data: DataFrame\n",
    "        A subset of the Disciplinary Actions dataframe by profession\n",
    "    profession: str\n",
    "        Profession to get out of your grouped data\n",
    "    profession_column_license: str\n",
    "        Column name of professions in Occupational Licensing dataframe\n",
    "    profession_column_fine: str\n",
    "        Column name of professions in Disciplinary Actions dataframe dataframe\n",
    "    year: int\n",
    "        Year to use to subset your data\n",
    "    column_name1: Series\n",
    "        Column containing years in license_data dataset\n",
    "    column_name2: Series\n",
    "        Column containing years in fine_data dataset\n",
    "    \n",
    "    Returns:\n",
    "    --------\n",
    "    tuple\n",
    "        A tuple with year as the first entry and ratio as the second\n",
    "        (year, ratio)\n",
    "    \"\"\"\n",
    "    \n",
    "    int(year)\n",
    "    str(column_name1)\n",
    "    str(column_name2)\n",
    "    str(profession)\n",
    "    \n",
    "    grouped_license_data = license_data.groupby(profession_column_license)\n",
    "    grouped_fine_data = fine_data.groupby(profession_column_fine)\n",
    "    license_profession_df = grouped_license_data.get_group(profession)\n",
    "    fine_profession_df = grouped_fine_data.get_group(profession)\n",
    "    try: \n",
    "        print(\"For the \" + profession + \" Profession...\")\n",
    "        return fine_to_license_ratio(license_data=license_profession_df, fine_data=fine_profession_df, \n",
    "                                 column_name1=column_name1, column_name2=column_name2,year=year)\n",
    "    except Exception as e:\n",
    "        print(e)"
   ]
  },
  {
   "cell_type": "code",
   "execution_count": 45,
   "metadata": {},
   "outputs": [
    {
     "name": "stdout",
     "output_type": "stream",
     "text": [
      "For the Pharmacy Profession...\n",
      "2001 not a valid year for this dataset\n",
      "----------------------------------------\n"
     ]
    }
   ],
   "source": [
    "fine_to_license_ratio_profession(license_data=data, fine_data=data2, \n",
    "                                 profession='Pharmacy', profession_column_license='profession_id', \n",
    "                                 profession_column_fine='profession_id', column_name1='licence_year', \n",
    "                                 column_name2='disciplinary_year', year=2001)"
   ]
  },
  {
   "cell_type": "markdown",
   "metadata": {},
   "source": [
    "For nursing compare growth in number of licenses issued by year to growth of fines issued."
   ]
  },
  {
   "cell_type": "code",
   "execution_count": 57,
   "metadata": {},
   "outputs": [
    {
     "name": "stdout",
     "output_type": "stream",
     "text": [
      "For the Occupational Therapy Profession...\n",
      "2000 not a valid year for this dataset\n",
      "----------------------------------------\n",
      "For the Occupational Therapy Profession...\n",
      "2001 not a valid year for this dataset\n",
      "----------------------------------------\n",
      "For the Occupational Therapy Profession...\n",
      "2002 not a valid year for this dataset\n",
      "----------------------------------------\n",
      "For the Occupational Therapy Profession...\n",
      "2003 not a valid year for this dataset\n",
      "----------------------------------------\n",
      "For the Occupational Therapy Profession...\n",
      "2004 not a valid year for this dataset\n",
      "----------------------------------------\n",
      "For the Occupational Therapy Profession...\n",
      "2005 not a valid year for this dataset\n",
      "----------------------------------------\n",
      "For the Occupational Therapy Profession...\n",
      "2006 not a valid year for this dataset\n",
      "----------------------------------------\n",
      "For the Occupational Therapy Profession...\n",
      "2007 not a valid year for this dataset\n",
      "----------------------------------------\n",
      "For the Occupational Therapy Profession...\n",
      "2008 not a valid year for this dataset\n",
      "----------------------------------------\n",
      "For the Occupational Therapy Profession...\n",
      "2009 not a valid year for this dataset\n",
      "----------------------------------------\n",
      "For the Occupational Therapy Profession...\n",
      "In the year 2010, 3.84% of license recipients were issued disciplinary action(s)\n",
      "52 licenses issued, 2 fines issued\n",
      "----------------------------------------\n",
      "For the Occupational Therapy Profession...\n",
      "In the year 2011, 4.61% of license recipients were issued disciplinary action(s)\n",
      "65 licenses issued, 3 fines issued\n",
      "----------------------------------------\n",
      "For the Occupational Therapy Profession...\n",
      "2012 not a valid year for this dataset\n",
      "----------------------------------------\n",
      "For the Occupational Therapy Profession...\n",
      "In the year 2013, 13.6% of license recipients were issued disciplinary action(s)\n",
      "95 licenses issued, 13 fines issued\n",
      "----------------------------------------\n",
      "For the Occupational Therapy Profession...\n",
      "2014 not a valid year for this dataset\n",
      "----------------------------------------\n",
      "For the Occupational Therapy Profession...\n",
      "In the year 2015, 5.0% of license recipients were issued disciplinary action(s)\n",
      "100 licenses issued, 5 fines issued\n",
      "----------------------------------------\n",
      "For the Occupational Therapy Profession...\n",
      "2016 not a valid year for this dataset\n",
      "----------------------------------------\n",
      "For the Occupational Therapy Profession...\n",
      "In the year 2017, 57.7% of license recipients were issued disciplinary action(s)\n",
      "123 licenses issued, 71 fines issued\n",
      "----------------------------------------\n"
     ]
    }
   ],
   "source": [
    "import numpy as np\n",
    "for date in np.arange(2000,2018):\n",
    "    fine_to_license_ratio_profession(license_data=data, fine_data=data2, \n",
    "                                     profession='Occupational Therapy', profession_column_license='profession_id', \n",
    "                                     profession_column_fine='profession_id', column_name1='licence_year', \n",
    "                                     column_name2='disciplinary_year', year=date)"
   ]
  },
  {
   "cell_type": "code",
   "execution_count": 53,
   "metadata": {},
   "outputs": [
    {
     "data": {
      "text/plain": [
       "array(['Medical Practice', 'Nursing', 'Cosmetology and Barbering',\n",
       "       'Electrical Examiners', 'Real Estate', 'Charitable Gaming',\n",
       "       'Real Estate Appraisers', 'Controlled Substances', 'Geologists',\n",
       "       'Accountancy', 'Architecture', 'Physical Therapy/Athletic Trg',\n",
       "       'Social Work Examiners', 'Pharmacy', 'Landscape Architecture',\n",
       "       'Massage Bodywork', 'Speech and Hearing',\n",
       "       'Nursing Home Administrators', 'Veterinary Medicine', 'Psychology',\n",
       "       'Chiropractic', 'Plumbing/HVACR', 'Funeral Services', 'Dentistry',\n",
       "       'Combative Sports', 'Occupational Therapy', 'Optometry',\n",
       "       'Mental Health', 'Home Inspectors', 'Deadly Weapons Dealers',\n",
       "       'Land Surveyors', 'Pilots', 'Manufactured Home Installation',\n",
       "       'Podiatry', 'Adult Entertainment'], dtype=object)"
      ]
     },
     "execution_count": 53,
     "metadata": {},
     "output_type": "execute_result"
    }
   ],
   "source": [
    "data['profession_id'].unique()"
   ]
  },
  {
   "cell_type": "code",
   "execution_count": null,
   "metadata": {
    "collapsed": true
   },
   "outputs": [],
   "source": []
  }
 ],
 "metadata": {
  "kernelspec": {
   "display_name": "Python 3",
   "language": "python",
   "name": "python3"
  },
  "language_info": {
   "codemirror_mode": {
    "name": "ipython",
    "version": 3
   },
   "file_extension": ".py",
   "mimetype": "text/x-python",
   "name": "python",
   "nbconvert_exporter": "python",
   "pygments_lexer": "ipython3",
   "version": "3.6.3"
  }
 },
 "nbformat": 4,
 "nbformat_minor": 2
}
